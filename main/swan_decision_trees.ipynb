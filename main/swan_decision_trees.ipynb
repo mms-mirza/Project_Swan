{
 "cells": [
  {
   "cell_type": "code",
   "execution_count": 1,
   "metadata": {
    "ExecuteTime": {
     "end_time": "2023-07-18T15:51:52.937482Z",
     "start_time": "2023-07-18T15:51:47.498506700Z"
    },
    "collapsed": true
   },
   "outputs": [],
   "source": [
    "import numpy as np\n",
    "import seaborn as sns\n",
    "import matplotlib.pyplot as plt\n",
    "import pandas as pd\n",
    "\n",
    "from sklearn import metrics\n",
    "from time import time\n",
    "from sklearn.model_selection import train_test_split, cross_val_score, GridSearchCV\n",
    "from sklearn.metrics import confusion_matrix, accuracy_score\n",
    "from sklearn.linear_model import LogisticRegression\n",
    "from sklearn.tree import DecisionTreeClassifier\n",
    "from sklearn import tree\n",
    "from sklearn.ensemble import BaggingClassifier\n",
    "from sklearn.ensemble import RandomForestClassifier, ExtraTreesClassifier"
   ]
  },
  {
   "cell_type": "code",
   "execution_count": 2,
   "metadata": {
    "ExecuteTime": {
     "end_time": "2023-07-18T15:52:00.212916300Z",
     "start_time": "2023-07-18T15:51:52.951662900Z"
    },
    "collapsed": false
   },
   "outputs": [],
   "source": [
    "df = pd.read_excel('customer_churn.xlsx')"
   ]
  },
  {
   "cell_type": "code",
   "execution_count": 3,
   "metadata": {
    "ExecuteTime": {
     "end_time": "2023-07-18T15:52:00.322931700Z",
     "start_time": "2023-07-18T15:52:00.237594300Z"
    },
    "collapsed": false
   },
   "outputs": [
    {
     "data": {
      "text/html": [
       "<div>\n",
       "<style scoped>\n",
       "    .dataframe tbody tr th:only-of-type {\n",
       "        vertical-align: middle;\n",
       "    }\n",
       "\n",
       "    .dataframe tbody tr th {\n",
       "        vertical-align: top;\n",
       "    }\n",
       "\n",
       "    .dataframe thead th {\n",
       "        text-align: right;\n",
       "    }\n",
       "</style>\n",
       "<table border=\"1\" class=\"dataframe\">\n",
       "  <thead>\n",
       "    <tr style=\"text-align: right;\">\n",
       "      <th></th>\n",
       "      <th>CustomerID</th>\n",
       "      <th>Count</th>\n",
       "      <th>Country</th>\n",
       "      <th>State</th>\n",
       "      <th>City</th>\n",
       "      <th>Zip Code</th>\n",
       "      <th>Lat Long</th>\n",
       "      <th>Latitude</th>\n",
       "      <th>Longitude</th>\n",
       "      <th>Gender</th>\n",
       "      <th>...</th>\n",
       "      <th>Streaming TV</th>\n",
       "      <th>Streaming Movies</th>\n",
       "      <th>Contract</th>\n",
       "      <th>Paperless Billing</th>\n",
       "      <th>Payment Method</th>\n",
       "      <th>Monthly Charges</th>\n",
       "      <th>Total Charges</th>\n",
       "      <th>Churn Label</th>\n",
       "      <th>Churn Value</th>\n",
       "      <th>Churn Reason</th>\n",
       "    </tr>\n",
       "  </thead>\n",
       "  <tbody>\n",
       "    <tr>\n",
       "      <th>0</th>\n",
       "      <td>3668-QPYBK</td>\n",
       "      <td>1</td>\n",
       "      <td>United States</td>\n",
       "      <td>California</td>\n",
       "      <td>Los Angeles</td>\n",
       "      <td>90003</td>\n",
       "      <td>33.964131, -118.272783</td>\n",
       "      <td>33.964131</td>\n",
       "      <td>-118.272783</td>\n",
       "      <td>Male</td>\n",
       "      <td>...</td>\n",
       "      <td>No</td>\n",
       "      <td>No</td>\n",
       "      <td>Month-to-month</td>\n",
       "      <td>Yes</td>\n",
       "      <td>Mailed check</td>\n",
       "      <td>53.85</td>\n",
       "      <td>108.15</td>\n",
       "      <td>Yes</td>\n",
       "      <td>1</td>\n",
       "      <td>Competitor made better offer</td>\n",
       "    </tr>\n",
       "    <tr>\n",
       "      <th>1</th>\n",
       "      <td>9237-HQITU</td>\n",
       "      <td>1</td>\n",
       "      <td>United States</td>\n",
       "      <td>California</td>\n",
       "      <td>Los Angeles</td>\n",
       "      <td>90005</td>\n",
       "      <td>34.059281, -118.30742</td>\n",
       "      <td>34.059281</td>\n",
       "      <td>-118.307420</td>\n",
       "      <td>Female</td>\n",
       "      <td>...</td>\n",
       "      <td>No</td>\n",
       "      <td>No</td>\n",
       "      <td>Month-to-month</td>\n",
       "      <td>Yes</td>\n",
       "      <td>Electronic check</td>\n",
       "      <td>70.70</td>\n",
       "      <td>151.65</td>\n",
       "      <td>Yes</td>\n",
       "      <td>1</td>\n",
       "      <td>Moved</td>\n",
       "    </tr>\n",
       "    <tr>\n",
       "      <th>2</th>\n",
       "      <td>9305-CDSKC</td>\n",
       "      <td>1</td>\n",
       "      <td>United States</td>\n",
       "      <td>California</td>\n",
       "      <td>Los Angeles</td>\n",
       "      <td>90006</td>\n",
       "      <td>34.048013, -118.293953</td>\n",
       "      <td>34.048013</td>\n",
       "      <td>-118.293953</td>\n",
       "      <td>Female</td>\n",
       "      <td>...</td>\n",
       "      <td>Yes</td>\n",
       "      <td>Yes</td>\n",
       "      <td>Month-to-month</td>\n",
       "      <td>Yes</td>\n",
       "      <td>Electronic check</td>\n",
       "      <td>99.65</td>\n",
       "      <td>820.5</td>\n",
       "      <td>Yes</td>\n",
       "      <td>1</td>\n",
       "      <td>Moved</td>\n",
       "    </tr>\n",
       "    <tr>\n",
       "      <th>3</th>\n",
       "      <td>7892-POOKP</td>\n",
       "      <td>1</td>\n",
       "      <td>United States</td>\n",
       "      <td>California</td>\n",
       "      <td>Los Angeles</td>\n",
       "      <td>90010</td>\n",
       "      <td>34.062125, -118.315709</td>\n",
       "      <td>34.062125</td>\n",
       "      <td>-118.315709</td>\n",
       "      <td>Female</td>\n",
       "      <td>...</td>\n",
       "      <td>Yes</td>\n",
       "      <td>Yes</td>\n",
       "      <td>Month-to-month</td>\n",
       "      <td>Yes</td>\n",
       "      <td>Electronic check</td>\n",
       "      <td>104.80</td>\n",
       "      <td>3046.05</td>\n",
       "      <td>Yes</td>\n",
       "      <td>1</td>\n",
       "      <td>Moved</td>\n",
       "    </tr>\n",
       "    <tr>\n",
       "      <th>4</th>\n",
       "      <td>0280-XJGEX</td>\n",
       "      <td>1</td>\n",
       "      <td>United States</td>\n",
       "      <td>California</td>\n",
       "      <td>Los Angeles</td>\n",
       "      <td>90015</td>\n",
       "      <td>34.039224, -118.266293</td>\n",
       "      <td>34.039224</td>\n",
       "      <td>-118.266293</td>\n",
       "      <td>Male</td>\n",
       "      <td>...</td>\n",
       "      <td>Yes</td>\n",
       "      <td>Yes</td>\n",
       "      <td>Month-to-month</td>\n",
       "      <td>Yes</td>\n",
       "      <td>Bank transfer (automatic)</td>\n",
       "      <td>103.70</td>\n",
       "      <td>5036.3</td>\n",
       "      <td>Yes</td>\n",
       "      <td>1</td>\n",
       "      <td>Competitor had better devices</td>\n",
       "    </tr>\n",
       "  </tbody>\n",
       "</table>\n",
       "<p>5 rows × 31 columns</p>\n",
       "</div>"
      ],
      "text/plain": [
       "   CustomerID  Count        Country       State         City  Zip Code  \\\n",
       "0  3668-QPYBK      1  United States  California  Los Angeles     90003   \n",
       "1  9237-HQITU      1  United States  California  Los Angeles     90005   \n",
       "2  9305-CDSKC      1  United States  California  Los Angeles     90006   \n",
       "3  7892-POOKP      1  United States  California  Los Angeles     90010   \n",
       "4  0280-XJGEX      1  United States  California  Los Angeles     90015   \n",
       "\n",
       "                 Lat Long   Latitude   Longitude  Gender  ... Streaming TV  \\\n",
       "0  33.964131, -118.272783  33.964131 -118.272783    Male  ...           No   \n",
       "1   34.059281, -118.30742  34.059281 -118.307420  Female  ...           No   \n",
       "2  34.048013, -118.293953  34.048013 -118.293953  Female  ...          Yes   \n",
       "3  34.062125, -118.315709  34.062125 -118.315709  Female  ...          Yes   \n",
       "4  34.039224, -118.266293  34.039224 -118.266293    Male  ...          Yes   \n",
       "\n",
       "  Streaming Movies        Contract  Paperless Billing  \\\n",
       "0               No  Month-to-month                Yes   \n",
       "1               No  Month-to-month                Yes   \n",
       "2              Yes  Month-to-month                Yes   \n",
       "3              Yes  Month-to-month                Yes   \n",
       "4              Yes  Month-to-month                Yes   \n",
       "\n",
       "              Payment Method Monthly Charges Total Charges Churn Label  \\\n",
       "0               Mailed check           53.85        108.15         Yes   \n",
       "1           Electronic check           70.70        151.65         Yes   \n",
       "2           Electronic check           99.65         820.5         Yes   \n",
       "3           Electronic check          104.80       3046.05         Yes   \n",
       "4  Bank transfer (automatic)          103.70        5036.3         Yes   \n",
       "\n",
       "  Churn Value                   Churn Reason  \n",
       "0           1   Competitor made better offer  \n",
       "1           1                          Moved  \n",
       "2           1                          Moved  \n",
       "3           1                          Moved  \n",
       "4           1  Competitor had better devices  \n",
       "\n",
       "[5 rows x 31 columns]"
      ]
     },
     "execution_count": 3,
     "metadata": {},
     "output_type": "execute_result"
    }
   ],
   "source": [
    "df.head()"
   ]
  },
  {
   "cell_type": "markdown",
   "metadata": {
    "collapsed": false
   },
   "source": [
    "# Cleaning"
   ]
  },
  {
   "cell_type": "code",
   "execution_count": 4,
   "metadata": {
    "ExecuteTime": {
     "end_time": "2023-07-18T15:52:00.373614800Z",
     "start_time": "2023-07-18T15:52:00.330878200Z"
    },
    "collapsed": false
   },
   "outputs": [],
   "source": [
    " df.columns = (df.columns\n",
    "               .str.replace('\\s','_',regex=True)\n",
    "               .str.lower()\n",
    "               .copy()\n",
    "               )"
   ]
  },
  {
   "cell_type": "code",
   "execution_count": 5,
   "metadata": {
    "ExecuteTime": {
     "end_time": "2023-07-18T15:52:00.578539500Z",
     "start_time": "2023-07-18T15:52:00.343804Z"
    },
    "collapsed": false
   },
   "outputs": [],
   "source": [
    "## All these have been checked to be binary first\n",
    "\n",
    "df.gender = df.gender.map({'Male':0,'Female':1})\n",
    "df.senior_citizen = df.senior_citizen.map({'No':0,'Yes':1})\n",
    "df.partner = df.partner.map({'No':0,'Yes':1})\n",
    "df.dependents = df.dependents.map({'No':0,'Yes':1})\n",
    "df.phone_service = df.phone_service.map({'No':0,'Yes':1})\n",
    "df.paperless_billing = df.paperless_billing.map({'No':0,'Yes':1})\n",
    "\n",
    "## Rename gender to sex\n",
    "df.rename(columns={'gender':'sex'},inplace=True)"
   ]
  },
  {
   "cell_type": "code",
   "execution_count": 6,
   "metadata": {
    "ExecuteTime": {
     "end_time": "2023-07-18T15:52:00.744298700Z",
     "start_time": "2023-07-18T15:52:00.419638300Z"
    },
    "collapsed": false
   },
   "outputs": [],
   "source": [
    "## One hot encode a number of columns\n",
    "\n",
    "df=pd.get_dummies(data = df, columns = ['multiple_lines','internet_service','online_security','online_backup','device_protection','tech_support','streaming_movies','streaming_tv','contract','payment_method'], drop_first=True)"
   ]
  },
  {
   "cell_type": "markdown",
   "metadata": {
    "collapsed": false
   },
   "source": [
    "# Split"
   ]
  },
  {
   "cell_type": "code",
   "execution_count": 7,
   "metadata": {
    "ExecuteTime": {
     "end_time": "2023-07-18T15:52:00.744298700Z",
     "start_time": "2023-07-18T15:52:00.482171900Z"
    },
    "collapsed": false
   },
   "outputs": [],
   "source": [
    "## Feature columns\n",
    "\n",
    "Features = [\n",
    "    'tenure_months',\n",
    "    'internet_service_Fiber optic',\n",
    "    'contract_Two year',\n",
    "    'payment_method_Electronic check',\n",
    "    'dependents',\n",
    "    'streaming_movies_No internet service',\n",
    "    'device_protection_No internet service',\n",
    "    'online_security_No internet service',\n",
    "    'internet_service_No',\n",
    "    'online_backup_No internet service',\n",
    "    'churn_value'\n",
    "]"
   ]
  },
  {
   "cell_type": "code",
   "execution_count": 8,
   "metadata": {
    "ExecuteTime": {
     "end_time": "2023-07-18T15:52:00.744298700Z",
     "start_time": "2023-07-18T15:52:00.494363200Z"
    },
    "collapsed": false
   },
   "outputs": [],
   "source": [
    "## Create X & y\n",
    "\n",
    "X=df[Features].copy()\n",
    "\n",
    "y= X['churn_value']\n",
    "\n",
    "X.drop(columns=['churn_value'], inplace=True)"
   ]
  },
  {
   "cell_type": "code",
   "execution_count": 9,
   "metadata": {
    "ExecuteTime": {
     "end_time": "2023-07-18T15:52:00.745365200Z",
     "start_time": "2023-07-18T15:52:00.527257Z"
    },
    "collapsed": false
   },
   "outputs": [],
   "source": [
    "## Create train & test\n",
    "\n",
    "X_train, X_test, y_train, y_test = train_test_split(X, y, test_size = 0.2, random_state = 42)"
   ]
  },
  {
   "cell_type": "markdown",
   "metadata": {
    "collapsed": false
   },
   "source": [
    "# Decision Trees"
   ]
  },
  {
   "cell_type": "markdown",
   "metadata": {
    "collapsed": false
   },
   "source": [
    "### Class Weights"
   ]
  },
  {
   "cell_type": "code",
   "execution_count": 10,
   "metadata": {
    "ExecuteTime": {
     "end_time": "2023-07-18T15:52:00.747415900Z",
     "start_time": "2023-07-18T15:52:00.556147900Z"
    },
    "collapsed": false
   },
   "outputs": [],
   "source": [
    "# Calculate class weights\n",
    "total_samples = len(df)\n",
    "class_0_count = 5174\n",
    "class_1_count = 1869\n",
    "class_0_weight = total_samples / class_0_count\n",
    "class_1_weight = total_samples / class_1_count\n",
    "\n",
    "# Create a dictionary with the class weights\n",
    "class_weights = {0: class_0_weight, 1: class_1_weight}"
   ]
  },
  {
   "cell_type": "markdown",
   "metadata": {
    "collapsed": false
   },
   "source": [
    "### Hyperparameters"
   ]
  },
  {
   "cell_type": "code",
   "execution_count": 11,
   "metadata": {
    "ExecuteTime": {
     "end_time": "2023-07-18T15:52:00.981142Z",
     "start_time": "2023-07-18T15:52:00.605820900Z"
    },
    "collapsed": false
   },
   "outputs": [],
   "source": [
    "grid = GridSearchCV(estimator = DecisionTreeClassifier(), ## classifier/algorithm (in this case DT)\n",
    "                    param_grid = {'max_depth': [3, 5, 7, 10], ## How many levels can I go\n",
    "                                  'min_samples_split': [5, 10, 15, 20, 50, 100], ## How many samples needed in a node for me to split\n",
    "                                  'min_samples_leaf': [2, 3, 4, 5, 6, 7],  ##  How many samples needed in a node to call it a terminal/leaf\n",
    "                                  'max_features':[2,5]},  ##How many features can I use from the data\n",
    "                    cv = 10, ##Number of cross validation folds, how much to split the data, so for each interation  of the process it removes on of those segments & runs the process without it\n",
    "                    refit = True, ##What do I do for each fold?\n",
    "                    verbose = 1, ## Avaliable options are 0,1,2 (least to most verbose), how much it tells you\n",
    "                    scoring = 'accuracy') ##What performance metric to priotise?"
   ]
  },
  {
   "cell_type": "code",
   "execution_count": 12,
   "metadata": {
    "ExecuteTime": {
     "end_time": "2023-07-18T15:52:44.878129Z",
     "start_time": "2023-07-18T15:52:00.677614900Z"
    },
    "collapsed": false
   },
   "outputs": [
    {
     "name": "stdout",
     "output_type": "stream",
     "text": [
      "Fitting 10 folds for each of 288 candidates, totalling 2880 fits\n",
      " Time in seconds: 44.234885931015015\n"
     ]
    }
   ],
   "source": [
    "# We run the gridsearch\n",
    "\n",
    "#Set the current time from your local machine\n",
    "now = time()\n",
    "\n",
    "## Run the gridsearch\n",
    "grid.fit(X_train, y_train)\n",
    "\n",
    "##Subtract the 'now' time from the current time\n",
    "print(f' Time in seconds: {time() - now}')\n"
   ]
  },
  {
   "cell_type": "code",
   "execution_count": 13,
   "metadata": {
    "ExecuteTime": {
     "end_time": "2023-07-18T15:52:45.007248Z",
     "start_time": "2023-07-18T15:52:44.876620700Z"
    },
    "collapsed": false
   },
   "outputs": [
    {
     "data": {
      "text/plain": [
       "{'max_depth': 7,\n",
       " 'max_features': 5,\n",
       " 'min_samples_leaf': 7,\n",
       " 'min_samples_split': 5}"
      ]
     },
     "execution_count": 13,
     "metadata": {},
     "output_type": "execute_result"
    }
   ],
   "source": [
    "grid.best_params_"
   ]
  },
  {
   "cell_type": "code",
   "execution_count": 14,
   "metadata": {
    "ExecuteTime": {
     "end_time": "2023-07-18T15:52:45.047264500Z",
     "start_time": "2023-07-18T15:52:44.915745500Z"
    },
    "collapsed": false
   },
   "outputs": [
    {
     "data": {
      "text/plain": [
       "0.7983557562702341"
      ]
     },
     "execution_count": 14,
     "metadata": {},
     "output_type": "execute_result"
    }
   ],
   "source": [
    "grid.best_score_"
   ]
  },
  {
   "cell_type": "code",
   "execution_count": 15,
   "metadata": {
    "ExecuteTime": {
     "end_time": "2023-07-18T15:52:45.047264500Z",
     "start_time": "2023-07-18T15:52:44.938442300Z"
    },
    "collapsed": false
   },
   "outputs": [
    {
     "data": {
      "text/html": [
       "<style>#sk-container-id-1 {color: black;background-color: white;}#sk-container-id-1 pre{padding: 0;}#sk-container-id-1 div.sk-toggleable {background-color: white;}#sk-container-id-1 label.sk-toggleable__label {cursor: pointer;display: block;width: 100%;margin-bottom: 0;padding: 0.3em;box-sizing: border-box;text-align: center;}#sk-container-id-1 label.sk-toggleable__label-arrow:before {content: \"▸\";float: left;margin-right: 0.25em;color: #696969;}#sk-container-id-1 label.sk-toggleable__label-arrow:hover:before {color: black;}#sk-container-id-1 div.sk-estimator:hover label.sk-toggleable__label-arrow:before {color: black;}#sk-container-id-1 div.sk-toggleable__content {max-height: 0;max-width: 0;overflow: hidden;text-align: left;background-color: #f0f8ff;}#sk-container-id-1 div.sk-toggleable__content pre {margin: 0.2em;color: black;border-radius: 0.25em;background-color: #f0f8ff;}#sk-container-id-1 input.sk-toggleable__control:checked~div.sk-toggleable__content {max-height: 200px;max-width: 100%;overflow: auto;}#sk-container-id-1 input.sk-toggleable__control:checked~label.sk-toggleable__label-arrow:before {content: \"▾\";}#sk-container-id-1 div.sk-estimator input.sk-toggleable__control:checked~label.sk-toggleable__label {background-color: #d4ebff;}#sk-container-id-1 div.sk-label input.sk-toggleable__control:checked~label.sk-toggleable__label {background-color: #d4ebff;}#sk-container-id-1 input.sk-hidden--visually {border: 0;clip: rect(1px 1px 1px 1px);clip: rect(1px, 1px, 1px, 1px);height: 1px;margin: -1px;overflow: hidden;padding: 0;position: absolute;width: 1px;}#sk-container-id-1 div.sk-estimator {font-family: monospace;background-color: #f0f8ff;border: 1px dotted black;border-radius: 0.25em;box-sizing: border-box;margin-bottom: 0.5em;}#sk-container-id-1 div.sk-estimator:hover {background-color: #d4ebff;}#sk-container-id-1 div.sk-parallel-item::after {content: \"\";width: 100%;border-bottom: 1px solid gray;flex-grow: 1;}#sk-container-id-1 div.sk-label:hover label.sk-toggleable__label {background-color: #d4ebff;}#sk-container-id-1 div.sk-serial::before {content: \"\";position: absolute;border-left: 1px solid gray;box-sizing: border-box;top: 0;bottom: 0;left: 50%;z-index: 0;}#sk-container-id-1 div.sk-serial {display: flex;flex-direction: column;align-items: center;background-color: white;padding-right: 0.2em;padding-left: 0.2em;position: relative;}#sk-container-id-1 div.sk-item {position: relative;z-index: 1;}#sk-container-id-1 div.sk-parallel {display: flex;align-items: stretch;justify-content: center;background-color: white;position: relative;}#sk-container-id-1 div.sk-item::before, #sk-container-id-1 div.sk-parallel-item::before {content: \"\";position: absolute;border-left: 1px solid gray;box-sizing: border-box;top: 0;bottom: 0;left: 50%;z-index: -1;}#sk-container-id-1 div.sk-parallel-item {display: flex;flex-direction: column;z-index: 1;position: relative;background-color: white;}#sk-container-id-1 div.sk-parallel-item:first-child::after {align-self: flex-end;width: 50%;}#sk-container-id-1 div.sk-parallel-item:last-child::after {align-self: flex-start;width: 50%;}#sk-container-id-1 div.sk-parallel-item:only-child::after {width: 0;}#sk-container-id-1 div.sk-dashed-wrapped {border: 1px dashed gray;margin: 0 0.4em 0.5em 0.4em;box-sizing: border-box;padding-bottom: 0.4em;background-color: white;}#sk-container-id-1 div.sk-label label {font-family: monospace;font-weight: bold;display: inline-block;line-height: 1.2em;}#sk-container-id-1 div.sk-label-container {text-align: center;}#sk-container-id-1 div.sk-container {/* jupyter's `normalize.less` sets `[hidden] { display: none; }` but bootstrap.min.css set `[hidden] { display: none !important; }` so we also need the `!important` here to be able to override the default hidden behavior on the sphinx rendered scikit-learn.org. See: https://github.com/scikit-learn/scikit-learn/issues/21755 */display: inline-block !important;position: relative;}#sk-container-id-1 div.sk-text-repr-fallback {display: none;}</style><div id=\"sk-container-id-1\" class=\"sk-top-container\"><div class=\"sk-text-repr-fallback\"><pre>DecisionTreeClassifier(max_depth=7, max_features=5, min_samples_leaf=7,\n",
       "                       min_samples_split=5)</pre><b>In a Jupyter environment, please rerun this cell to show the HTML representation or trust the notebook. <br />On GitHub, the HTML representation is unable to render, please try loading this page with nbviewer.org.</b></div><div class=\"sk-container\" hidden><div class=\"sk-item\"><div class=\"sk-estimator sk-toggleable\"><input class=\"sk-toggleable__control sk-hidden--visually\" id=\"sk-estimator-id-1\" type=\"checkbox\" checked><label for=\"sk-estimator-id-1\" class=\"sk-toggleable__label sk-toggleable__label-arrow\">DecisionTreeClassifier</label><div class=\"sk-toggleable__content\"><pre>DecisionTreeClassifier(max_depth=7, max_features=5, min_samples_leaf=7,\n",
       "                       min_samples_split=5)</pre></div></div></div></div></div>"
      ],
      "text/plain": [
       "DecisionTreeClassifier(max_depth=7, max_features=5, min_samples_leaf=7,\n",
       "                       min_samples_split=5)"
      ]
     },
     "execution_count": 15,
     "metadata": {},
     "output_type": "execute_result"
    }
   ],
   "source": [
    "grid.best_estimator_"
   ]
  },
  {
   "cell_type": "code",
   "execution_count": 16,
   "metadata": {
    "ExecuteTime": {
     "end_time": "2023-07-18T15:52:45.048308300Z",
     "start_time": "2023-07-18T15:52:44.973354Z"
    },
    "collapsed": false
   },
   "outputs": [],
   "source": [
    "dt = DecisionTreeClassifier(max_depth=7, min_samples_leaf=7, min_samples_split=50,class_weight=class_weights)"
   ]
  },
  {
   "cell_type": "code",
   "execution_count": 17,
   "metadata": {
    "ExecuteTime": {
     "end_time": "2023-07-18T15:52:45.050391500Z",
     "start_time": "2023-07-18T15:52:44.984495600Z"
    },
    "collapsed": false
   },
   "outputs": [
    {
     "data": {
      "text/html": [
       "<style>#sk-container-id-2 {color: black;background-color: white;}#sk-container-id-2 pre{padding: 0;}#sk-container-id-2 div.sk-toggleable {background-color: white;}#sk-container-id-2 label.sk-toggleable__label {cursor: pointer;display: block;width: 100%;margin-bottom: 0;padding: 0.3em;box-sizing: border-box;text-align: center;}#sk-container-id-2 label.sk-toggleable__label-arrow:before {content: \"▸\";float: left;margin-right: 0.25em;color: #696969;}#sk-container-id-2 label.sk-toggleable__label-arrow:hover:before {color: black;}#sk-container-id-2 div.sk-estimator:hover label.sk-toggleable__label-arrow:before {color: black;}#sk-container-id-2 div.sk-toggleable__content {max-height: 0;max-width: 0;overflow: hidden;text-align: left;background-color: #f0f8ff;}#sk-container-id-2 div.sk-toggleable__content pre {margin: 0.2em;color: black;border-radius: 0.25em;background-color: #f0f8ff;}#sk-container-id-2 input.sk-toggleable__control:checked~div.sk-toggleable__content {max-height: 200px;max-width: 100%;overflow: auto;}#sk-container-id-2 input.sk-toggleable__control:checked~label.sk-toggleable__label-arrow:before {content: \"▾\";}#sk-container-id-2 div.sk-estimator input.sk-toggleable__control:checked~label.sk-toggleable__label {background-color: #d4ebff;}#sk-container-id-2 div.sk-label input.sk-toggleable__control:checked~label.sk-toggleable__label {background-color: #d4ebff;}#sk-container-id-2 input.sk-hidden--visually {border: 0;clip: rect(1px 1px 1px 1px);clip: rect(1px, 1px, 1px, 1px);height: 1px;margin: -1px;overflow: hidden;padding: 0;position: absolute;width: 1px;}#sk-container-id-2 div.sk-estimator {font-family: monospace;background-color: #f0f8ff;border: 1px dotted black;border-radius: 0.25em;box-sizing: border-box;margin-bottom: 0.5em;}#sk-container-id-2 div.sk-estimator:hover {background-color: #d4ebff;}#sk-container-id-2 div.sk-parallel-item::after {content: \"\";width: 100%;border-bottom: 1px solid gray;flex-grow: 1;}#sk-container-id-2 div.sk-label:hover label.sk-toggleable__label {background-color: #d4ebff;}#sk-container-id-2 div.sk-serial::before {content: \"\";position: absolute;border-left: 1px solid gray;box-sizing: border-box;top: 0;bottom: 0;left: 50%;z-index: 0;}#sk-container-id-2 div.sk-serial {display: flex;flex-direction: column;align-items: center;background-color: white;padding-right: 0.2em;padding-left: 0.2em;position: relative;}#sk-container-id-2 div.sk-item {position: relative;z-index: 1;}#sk-container-id-2 div.sk-parallel {display: flex;align-items: stretch;justify-content: center;background-color: white;position: relative;}#sk-container-id-2 div.sk-item::before, #sk-container-id-2 div.sk-parallel-item::before {content: \"\";position: absolute;border-left: 1px solid gray;box-sizing: border-box;top: 0;bottom: 0;left: 50%;z-index: -1;}#sk-container-id-2 div.sk-parallel-item {display: flex;flex-direction: column;z-index: 1;position: relative;background-color: white;}#sk-container-id-2 div.sk-parallel-item:first-child::after {align-self: flex-end;width: 50%;}#sk-container-id-2 div.sk-parallel-item:last-child::after {align-self: flex-start;width: 50%;}#sk-container-id-2 div.sk-parallel-item:only-child::after {width: 0;}#sk-container-id-2 div.sk-dashed-wrapped {border: 1px dashed gray;margin: 0 0.4em 0.5em 0.4em;box-sizing: border-box;padding-bottom: 0.4em;background-color: white;}#sk-container-id-2 div.sk-label label {font-family: monospace;font-weight: bold;display: inline-block;line-height: 1.2em;}#sk-container-id-2 div.sk-label-container {text-align: center;}#sk-container-id-2 div.sk-container {/* jupyter's `normalize.less` sets `[hidden] { display: none; }` but bootstrap.min.css set `[hidden] { display: none !important; }` so we also need the `!important` here to be able to override the default hidden behavior on the sphinx rendered scikit-learn.org. See: https://github.com/scikit-learn/scikit-learn/issues/21755 */display: inline-block !important;position: relative;}#sk-container-id-2 div.sk-text-repr-fallback {display: none;}</style><div id=\"sk-container-id-2\" class=\"sk-top-container\"><div class=\"sk-text-repr-fallback\"><pre>DecisionTreeClassifier(class_weight={0: 1.3612292230382683,\n",
       "                                     1: 3.7683253076511503},\n",
       "                       max_depth=7, min_samples_leaf=7, min_samples_split=50)</pre><b>In a Jupyter environment, please rerun this cell to show the HTML representation or trust the notebook. <br />On GitHub, the HTML representation is unable to render, please try loading this page with nbviewer.org.</b></div><div class=\"sk-container\" hidden><div class=\"sk-item\"><div class=\"sk-estimator sk-toggleable\"><input class=\"sk-toggleable__control sk-hidden--visually\" id=\"sk-estimator-id-2\" type=\"checkbox\" checked><label for=\"sk-estimator-id-2\" class=\"sk-toggleable__label sk-toggleable__label-arrow\">DecisionTreeClassifier</label><div class=\"sk-toggleable__content\"><pre>DecisionTreeClassifier(class_weight={0: 1.3612292230382683,\n",
       "                                     1: 3.7683253076511503},\n",
       "                       max_depth=7, min_samples_leaf=7, min_samples_split=50)</pre></div></div></div></div></div>"
      ],
      "text/plain": [
       "DecisionTreeClassifier(class_weight={0: 1.3612292230382683,\n",
       "                                     1: 3.7683253076511503},\n",
       "                       max_depth=7, min_samples_leaf=7, min_samples_split=50)"
      ]
     },
     "execution_count": 17,
     "metadata": {},
     "output_type": "execute_result"
    }
   ],
   "source": [
    "dt.fit(X_train, y_train)"
   ]
  },
  {
   "cell_type": "code",
   "execution_count": 18,
   "metadata": {
    "ExecuteTime": {
     "end_time": "2023-07-18T15:52:55.571461500Z",
     "start_time": "2023-07-18T15:52:45.031935200Z"
    },
    "collapsed": false
   },
   "outputs": [
    {
     "data": {
      "image/png": "[encoded data removed]",
      "text/plain": [
       "<Figure size 1500x1000 with 1 Axes>"
      ]
     },
     "metadata": {},
     "output_type": "display_data"
    }
   ],
   "source": [
    "fig = plt.figure(figsize=(15,10))\n",
    "thing = tree.plot_tree(dt,\n",
    "                       feature_names=X_train.columns,\n",
    "                       class_names=['not', 'churn'],\n",
    "                       filled=True)"
   ]
  },
  {
   "cell_type": "markdown",
   "metadata": {
    "collapsed": false
   },
   "source": [
    "# Evaluate"
   ]
  },
  {
   "cell_type": "code",
   "execution_count": 19,
   "metadata": {
    "ExecuteTime": {
     "end_time": "2023-07-18T15:52:55.605416Z",
     "start_time": "2023-07-18T15:52:55.573924100Z"
    },
    "collapsed": false
   },
   "outputs": [
    {
     "name": "stdout",
     "output_type": "stream",
     "text": [
      "Score on training set: 0.7554135605253817\n",
      "Score on testing set: 0.7530163236337828\n"
     ]
    }
   ],
   "source": [
    "# Evaluate model.\n",
    "print(f'Score on training set: {dt.score(X_train, y_train)}')\n",
    "print(f'Score on testing set: {dt.score(X_test, y_test)}')"
   ]
  },
  {
   "cell_type": "code",
   "execution_count": 20,
   "metadata": {
    "ExecuteTime": {
     "end_time": "2023-07-18T15:52:56.091110Z",
     "start_time": "2023-07-18T15:52:55.605416Z"
    },
    "collapsed": false
   },
   "outputs": [],
   "source": [
    "# predictions on X_train\n",
    "train_results = X_train.copy()\n",
    "train_results['y_pred'] = dt.predict(X_train)\n",
    "train_results['y_real'] = y_train\n",
    "train_results['y_prob'] = dt.predict_proba(X_train)[:,1]"
   ]
  },
  {
   "cell_type": "code",
   "execution_count": 21,
   "metadata": {
    "ExecuteTime": {
     "end_time": "2023-07-18T15:52:56.201100500Z",
     "start_time": "2023-07-18T15:52:55.662920900Z"
    },
    "collapsed": false
   },
   "outputs": [],
   "source": [
    "# X_test\n",
    "\n",
    "test_results = X_test.copy()\n",
    "test_results['y_pred'] = dt.predict(X_test)\n",
    "test_results['y_real'] = y_test\n",
    "test_results['y_prob'] = dt.predict_proba(X_test)[:,1]"
   ]
  },
  {
   "cell_type": "markdown",
   "metadata": {
    "collapsed": false
   },
   "source": [
    "### Confusion Matrix"
   ]
  },
  {
   "cell_type": "code",
   "execution_count": 22,
   "metadata": {
    "ExecuteTime": {
     "end_time": "2023-07-18T15:52:56.201100500Z",
     "start_time": "2023-07-18T15:52:55.697136100Z"
    },
    "collapsed": false
   },
   "outputs": [],
   "source": [
    "def conf_matrix(matrix):\n",
    "    ax = plt.subplot()\n",
    "    sns.heatmap(matrix, annot = True, ax = ax, fmt = 'g');\n",
    "    ax.xaxis.set_ticklabels(['predicted negative', 'predicted positive'])\n",
    "    ax.yaxis.set_ticklabels(['actual negative', 'actual positive']);"
   ]
  },
  {
   "cell_type": "code",
   "execution_count": 23,
   "metadata": {
    "ExecuteTime": {
     "end_time": "2023-07-18T15:52:56.202093200Z",
     "start_time": "2023-07-18T15:52:55.729778200Z"
    },
    "collapsed": false
   },
   "outputs": [],
   "source": [
    "con_results=metrics.confusion_matrix(y_test,test_results['y_pred'])"
   ]
  },
  {
   "cell_type": "code",
   "execution_count": 24,
   "metadata": {
    "ExecuteTime": {
     "end_time": "2023-07-18T15:52:56.837640400Z",
     "start_time": "2023-07-18T15:52:55.756328900Z"
    },
    "collapsed": false
   },
   "outputs": [
    {
     "data": {
      "image/png": "[encoded data removed]",
      "text/plain": [
       "<Figure size 640x480 with 2 Axes>"
      ]
     },
     "metadata": {},
     "output_type": "display_data"
    }
   ],
   "source": [
    "conf_matrix(con_results)"
   ]
  },
  {
   "cell_type": "code",
   "execution_count": 25,
   "metadata": {
    "ExecuteTime": {
     "end_time": "2023-07-18T15:52:57.068205600Z",
     "start_time": "2023-07-18T15:52:56.824077500Z"
    },
    "collapsed": false
   },
   "outputs": [
    {
     "name": "stdout",
     "output_type": "stream",
     "text": [
      "              precision    recall  f1-score   support\n",
      "\n",
      "           0       0.93      0.72      0.81      4165\n",
      "           1       0.52      0.84      0.64      1469\n",
      "\n",
      "    accuracy                           0.76      5634\n",
      "   macro avg       0.72      0.78      0.73      5634\n",
      "weighted avg       0.82      0.76      0.77      5634\n",
      "\n"
     ]
    }
   ],
   "source": [
    "## Train\n",
    "\n",
    "print(metrics.classification_report(y_train,train_results['y_pred']))"
   ]
  },
  {
   "cell_type": "code",
   "execution_count": 26,
   "metadata": {
    "ExecuteTime": {
     "end_time": "2023-07-18T15:52:57.070398300Z",
     "start_time": "2023-07-18T15:52:56.913802200Z"
    },
    "collapsed": false
   },
   "outputs": [
    {
     "name": "stdout",
     "output_type": "stream",
     "text": [
      "              precision    recall  f1-score   support\n",
      "\n",
      "           0       0.91      0.72      0.81      1009\n",
      "           1       0.54      0.82      0.65       400\n",
      "\n",
      "    accuracy                           0.75      1409\n",
      "   macro avg       0.73      0.77      0.73      1409\n",
      "weighted avg       0.81      0.75      0.76      1409\n",
      "\n"
     ]
    }
   ],
   "source": [
    "## Test\n",
    "\n",
    "print(metrics.classification_report(y_test,test_results['y_pred']))"
   ]
  },
  {
   "cell_type": "code",
   "execution_count": 27,
   "metadata": {
    "ExecuteTime": {
     "end_time": "2023-07-18T15:52:57.071396100Z",
     "start_time": "2023-07-18T15:52:56.966538500Z"
    },
    "collapsed": false
   },
   "outputs": [],
   "source": [
    "def get_results(actual, predicted):\n",
    "    print(\"The confusion matrix for your predictions is:\")\n",
    "    print(metrics.confusion_matrix(actual, predicted), \"\\n\")\n",
    "    print(f'The accuracy of your model is: {metrics.accuracy_score(actual, predicted)}')\n",
    "    print(f'The recall of your model is: {metrics.recall_score(actual, predicted)}')\n",
    "    print(f'The precision of your model is: {metrics.precision_score(actual, predicted)}')\n",
    "    print(f'The F1-score of your model is: {metrics.f1_score(actual, predicted)}')"
   ]
  },
  {
   "cell_type": "code",
   "execution_count": 28,
   "metadata": {
    "ExecuteTime": {
     "end_time": "2023-07-18T15:52:57.145356Z",
     "start_time": "2023-07-18T15:52:56.997176400Z"
    },
    "collapsed": false
   },
   "outputs": [
    {
     "name": "stdout",
     "output_type": "stream",
     "text": [
      "The confusion matrix for your predictions is:\n",
      "[[3017 1148]\n",
      " [ 230 1239]] \n",
      "\n",
      "The accuracy of your model is: 0.7554135605253817\n",
      "The recall of your model is: 0.8434309053778081\n",
      "The precision of your model is: 0.5190615835777126\n",
      "The F1-score of your model is: 0.6426348547717843\n"
     ]
    }
   ],
   "source": [
    "## Train\n",
    "\n",
    "get_results(y_train, train_results['y_pred'])"
   ]
  },
  {
   "cell_type": "code",
   "execution_count": 29,
   "metadata": {
    "ExecuteTime": {
     "end_time": "2023-07-18T15:52:57.352977400Z",
     "start_time": "2023-07-18T15:52:57.056170400Z"
    },
    "collapsed": false
   },
   "outputs": [
    {
     "name": "stdout",
     "output_type": "stream",
     "text": [
      "The confusion matrix for your predictions is:\n",
      "[[731 278]\n",
      " [ 70 330]] \n",
      "\n",
      "The accuracy of your model is: 0.7530163236337828\n",
      "The recall of your model is: 0.825\n",
      "The precision of your model is: 0.5427631578947368\n",
      "The F1-score of your model is: 0.6547619047619047\n"
     ]
    }
   ],
   "source": [
    "## Test\n",
    "get_results(y_test, test_results['y_pred'])"
   ]
  },
  {
   "cell_type": "markdown",
   "metadata": {
    "collapsed": false
   },
   "source": []
  },
  {
   "cell_type": "markdown",
   "metadata": {
    "collapsed": false
   },
   "source": [
    "# CSV Creation"
   ]
  },
  {
   "cell_type": "markdown",
   "metadata": {
    "collapsed": false
   },
   "source": [
    "### CSV Prep"
   ]
  },
  {
   "cell_type": "code",
   "execution_count": 30,
   "metadata": {
    "ExecuteTime": {
     "end_time": "2023-07-18T15:52:57.352977400Z",
     "start_time": "2023-07-18T15:52:57.100377400Z"
    },
    "collapsed": false
   },
   "outputs": [],
   "source": [
    "DT_train_y=train_results[['y_prob']]\n",
    "DT_test_y=test_results[['y_prob']]\n",
    "all_ID=df[['customerid','churn_value']]"
   ]
  },
  {
   "cell_type": "code",
   "execution_count": 31,
   "metadata": {
    "ExecuteTime": {
     "end_time": "2023-07-18T15:52:57.352977400Z",
     "start_time": "2023-07-18T15:52:57.127319900Z"
    },
    "collapsed": false
   },
   "outputs": [],
   "source": [
    "DT_all_y=pd.concat([DT_train_y,DT_test_y])"
   ]
  },
  {
   "cell_type": "code",
   "execution_count": 32,
   "metadata": {
    "ExecuteTime": {
     "end_time": "2023-07-18T15:52:57.368566300Z",
     "start_time": "2023-07-18T15:52:57.147359700Z"
    },
    "collapsed": false
   },
   "outputs": [],
   "source": [
    "DT_all_y=DT_all_y.join(all_ID)"
   ]
  },
  {
   "cell_type": "code",
   "execution_count": 33,
   "metadata": {
    "ExecuteTime": {
     "end_time": "2023-07-18T15:52:57.382437600Z",
     "start_time": "2023-07-18T15:52:57.185045700Z"
    },
    "collapsed": false
   },
   "outputs": [
    {
     "data": {
      "text/html": [
       "<div>\n",
       "<style scoped>\n",
       "    .dataframe tbody tr th:only-of-type {\n",
       "        vertical-align: middle;\n",
       "    }\n",
       "\n",
       "    .dataframe tbody tr th {\n",
       "        vertical-align: top;\n",
       "    }\n",
       "\n",
       "    .dataframe thead th {\n",
       "        text-align: right;\n",
       "    }\n",
       "</style>\n",
       "<table border=\"1\" class=\"dataframe\">\n",
       "  <thead>\n",
       "    <tr style=\"text-align: right;\">\n",
       "      <th></th>\n",
       "      <th>y_prob</th>\n",
       "      <th>customerid</th>\n",
       "      <th>churn_value</th>\n",
       "    </tr>\n",
       "  </thead>\n",
       "  <tbody>\n",
       "    <tr>\n",
       "      <th>2142</th>\n",
       "      <td>0.425788</td>\n",
       "      <td>9571-EDEBV</td>\n",
       "      <td>0</td>\n",
       "    </tr>\n",
       "    <tr>\n",
       "      <th>1623</th>\n",
       "      <td>0.829128</td>\n",
       "      <td>7562-GSUHK</td>\n",
       "      <td>1</td>\n",
       "    </tr>\n",
       "    <tr>\n",
       "      <th>6074</th>\n",
       "      <td>0.603436</td>\n",
       "      <td>2325-WINES</td>\n",
       "      <td>0</td>\n",
       "    </tr>\n",
       "    <tr>\n",
       "      <th>1362</th>\n",
       "      <td>0.306967</td>\n",
       "      <td>9381-NDKME</td>\n",
       "      <td>1</td>\n",
       "    </tr>\n",
       "    <tr>\n",
       "      <th>6754</th>\n",
       "      <td>0.099694</td>\n",
       "      <td>2164-SOQXL</td>\n",
       "      <td>0</td>\n",
       "    </tr>\n",
       "  </tbody>\n",
       "</table>\n",
       "</div>"
      ],
      "text/plain": [
       "        y_prob  customerid  churn_value\n",
       "2142  0.425788  9571-EDEBV            0\n",
       "1623  0.829128  7562-GSUHK            1\n",
       "6074  0.603436  2325-WINES            0\n",
       "1362  0.306967  9381-NDKME            1\n",
       "6754  0.099694  2164-SOQXL            0"
      ]
     },
     "execution_count": 33,
     "metadata": {},
     "output_type": "execute_result"
    }
   ],
   "source": [
    "DT_all_y.head()"
   ]
  },
  {
   "cell_type": "markdown",
   "metadata": {
    "collapsed": false
   },
   "source": [
    "### Top500"
   ]
  },
  {
   "cell_type": "code",
   "execution_count": 62,
   "metadata": {
    "ExecuteTime": {
     "end_time": "2023-07-18T15:56:09.648576500Z",
     "start_time": "2023-07-18T15:56:09.601006200Z"
    },
    "collapsed": false
   },
   "outputs": [],
   "source": [
    "DT_top_churn=DT_all_y[DT_all_y.churn_value==0].sort_values(['y_prob'],ascending=False).head(500)"
   ]
  },
  {
   "cell_type": "code",
   "execution_count": 66,
   "metadata": {
    "ExecuteTime": {
     "end_time": "2023-07-18T15:58:02.190212300Z",
     "start_time": "2023-07-18T15:58:02.136597400Z"
    },
    "collapsed": false
   },
   "outputs": [],
   "source": [
    "DT_top_churn[['customerid']].to_csv(\"project_4_DT_results.csv\",index=False)"
   ]
  },
  {
   "cell_type": "code",
   "execution_count": 36,
   "metadata": {
    "ExecuteTime": {
     "end_time": "2023-07-18T15:52:57.740382300Z",
     "start_time": "2023-07-18T15:52:57.533966200Z"
    },
    "collapsed": false
   },
   "outputs": [
    {
     "data": {
      "text/html": [
       "<div>\n",
       "<style scoped>\n",
       "    .dataframe tbody tr th:only-of-type {\n",
       "        vertical-align: middle;\n",
       "    }\n",
       "\n",
       "    .dataframe tbody tr th {\n",
       "        vertical-align: top;\n",
       "    }\n",
       "\n",
       "    .dataframe thead th {\n",
       "        text-align: right;\n",
       "    }\n",
       "</style>\n",
       "<table border=\"1\" class=\"dataframe\">\n",
       "  <thead>\n",
       "    <tr style=\"text-align: right;\">\n",
       "      <th></th>\n",
       "      <th>y_prob</th>\n",
       "      <th>customerid</th>\n",
       "      <th>churn_value</th>\n",
       "    </tr>\n",
       "  </thead>\n",
       "  <tbody>\n",
       "    <tr>\n",
       "      <th>4327</th>\n",
       "      <td>0.958132</td>\n",
       "      <td>5043-TRZWM</td>\n",
       "      <td>0</td>\n",
       "    </tr>\n",
       "    <tr>\n",
       "      <th>5657</th>\n",
       "      <td>0.958132</td>\n",
       "      <td>7577-SWIFR</td>\n",
       "      <td>0</td>\n",
       "    </tr>\n",
       "    <tr>\n",
       "      <th>5820</th>\n",
       "      <td>0.958132</td>\n",
       "      <td>4273-MBHYA</td>\n",
       "      <td>0</td>\n",
       "    </tr>\n",
       "    <tr>\n",
       "      <th>4030</th>\n",
       "      <td>0.958132</td>\n",
       "      <td>5542-TBBWB</td>\n",
       "      <td>0</td>\n",
       "    </tr>\n",
       "    <tr>\n",
       "      <th>3796</th>\n",
       "      <td>0.958132</td>\n",
       "      <td>2262-SLNVK</td>\n",
       "      <td>0</td>\n",
       "    </tr>\n",
       "  </tbody>\n",
       "</table>\n",
       "</div>"
      ],
      "text/plain": [
       "        y_prob  customerid  churn_value\n",
       "4327  0.958132  5043-TRZWM            0\n",
       "5657  0.958132  7577-SWIFR            0\n",
       "5820  0.958132  4273-MBHYA            0\n",
       "4030  0.958132  5542-TBBWB            0\n",
       "3796  0.958132  2262-SLNVK            0"
      ]
     },
     "execution_count": 36,
     "metadata": {},
     "output_type": "execute_result"
    }
   ],
   "source": [
    "DT_top_churn.head()"
   ]
  },
  {
   "cell_type": "markdown",
   "metadata": {
    "collapsed": false
   },
   "source": [
    "### Remainder"
   ]
  },
  {
   "cell_type": "code",
   "execution_count": 64,
   "metadata": {
    "ExecuteTime": {
     "end_time": "2023-07-18T15:56:16.774488200Z",
     "start_time": "2023-07-18T15:56:16.709547800Z"
    },
    "collapsed": false
   },
   "outputs": [],
   "source": [
    "DT_remainder=DT_all_y[DT_all_y.churn_value==0].sort_values(['y_prob'],ascending=False)"
   ]
  },
  {
   "cell_type": "code",
   "execution_count": 67,
   "metadata": {
    "ExecuteTime": {
     "end_time": "2023-07-18T15:58:09.977388Z",
     "start_time": "2023-07-18T15:58:09.884980900Z"
    },
    "collapsed": false
   },
   "outputs": [],
   "source": [
    "DT_remainder[['customerid','y_prob']].to_csv(\"project_4_DT_remainder.csv\",index=False)"
   ]
  },
  {
   "cell_type": "markdown",
   "metadata": {
    "collapsed": false
   },
   "source": [
    "# Random Forests"
   ]
  },
  {
   "cell_type": "markdown",
   "metadata": {
    "collapsed": false
   },
   "source": [
    "## Fit the model"
   ]
  },
  {
   "cell_type": "code",
   "execution_count": 39,
   "metadata": {
    "ExecuteTime": {
     "end_time": "2023-07-18T15:52:57.871871800Z",
     "start_time": "2023-07-18T15:52:57.642600500Z"
    },
    "collapsed": false
   },
   "outputs": [],
   "source": [
    "## Random forests & extra randomised trees\n",
    "\n",
    "rf = RandomForestClassifier(n_estimators=50,class_weight=class_weights)\n",
    "et = ExtraTreesClassifier(n_estimators=50,class_weight=class_weights)"
   ]
  },
  {
   "cell_type": "code",
   "execution_count": 40,
   "metadata": {
    "ExecuteTime": {
     "end_time": "2023-07-18T15:53:03.243447100Z",
     "start_time": "2023-07-18T15:52:57.658657200Z"
    },
    "collapsed": false
   },
   "outputs": [],
   "source": [
    "##generate cross validation scores for both\n",
    "\n",
    "rf_score = cross_val_score(rf, X_train, y_train, cv=5)\n",
    "et_score = cross_val_score(et, X_train, y_train, cv=5)"
   ]
  },
  {
   "cell_type": "code",
   "execution_count": 41,
   "metadata": {
    "ExecuteTime": {
     "end_time": "2023-07-18T15:53:03.320706900Z",
     "start_time": "2023-07-18T15:53:03.266005900Z"
    },
    "collapsed": false
   },
   "outputs": [
    {
     "name": "stdout",
     "output_type": "stream",
     "text": [
      "Random scored [0.75865129 0.75598935 0.74090506 0.71606034 0.75843694]\n",
      "Extra Random scored [0.74267968 0.74090506 0.73203194 0.70008873 0.74067496]\n"
     ]
    }
   ],
   "source": [
    "##print them out\n",
    "\n",
    "print(f'Random scored {rf_score}')\n",
    "print(f'Extra Random scored {et_score}')"
   ]
  },
  {
   "cell_type": "code",
   "execution_count": 42,
   "metadata": {
    "ExecuteTime": {
     "end_time": "2023-07-18T15:54:13.673021600Z",
     "start_time": "2023-07-18T15:53:03.293892Z"
    },
    "collapsed": false
   },
   "outputs": [
    {
     "name": "stdout",
     "output_type": "stream",
     "text": [
      "Fitting 5 folds for each of 18 candidates, totalling 90 fits\n",
      "0.7461857428120682\n"
     ]
    },
    {
     "data": {
      "text/plain": [
       "{'max_depth': None, 'n_estimators': 100}"
      ]
     },
     "execution_count": 42,
     "metadata": {},
     "output_type": "execute_result"
    }
   ],
   "source": [
    "## Run another grid search on random forests\n",
    "\n",
    "rf_params = {\n",
    "    'n_estimators': [100, 150, 200],\n",
    "    'max_depth': [None, 1, 2, 3, 4, 5],\n",
    "}\n",
    "\n",
    "\n",
    "gs = GridSearchCV(rf, param_grid=rf_params, cv=5, verbose=1) ##Grid search\n",
    "\n",
    "gs.fit(X_train, y_train) ## Fit on the train\n",
    "\n",
    "print(gs.best_score_)\n",
    "\n",
    "gs.best_params_ ## Get the best parameters"
   ]
  },
  {
   "cell_type": "markdown",
   "metadata": {
    "collapsed": false
   },
   "source": [
    "### Accuracy Score"
   ]
  },
  {
   "cell_type": "code",
   "execution_count": 43,
   "metadata": {
    "ExecuteTime": {
     "end_time": "2023-07-18T15:54:13.842539800Z",
     "start_time": "2023-07-18T15:54:13.674102700Z"
    },
    "collapsed": false
   },
   "outputs": [
    {
     "data": {
      "text/plain": [
       "0.7847000354987576"
      ]
     },
     "execution_count": 43,
     "metadata": {},
     "output_type": "execute_result"
    }
   ],
   "source": [
    "##Look at the accuracy\n",
    "\n",
    "gs.score(X_train, y_train)"
   ]
  },
  {
   "cell_type": "code",
   "execution_count": 44,
   "metadata": {
    "ExecuteTime": {
     "end_time": "2023-07-18T15:54:13.989731600Z",
     "start_time": "2023-07-18T15:54:13.847530600Z"
    },
    "collapsed": false
   },
   "outputs": [
    {
     "data": {
      "text/plain": [
       "0.7423704755145494"
      ]
     },
     "execution_count": 44,
     "metadata": {},
     "output_type": "execute_result"
    }
   ],
   "source": [
    "gs.score(X_test,y_test)"
   ]
  },
  {
   "cell_type": "markdown",
   "metadata": {
    "collapsed": false
   },
   "source": [
    "### Predict"
   ]
  },
  {
   "cell_type": "code",
   "execution_count": 45,
   "metadata": {
    "ExecuteTime": {
     "end_time": "2023-07-18T15:54:14.242331900Z",
     "start_time": "2023-07-18T15:54:13.922920200Z"
    },
    "collapsed": false
   },
   "outputs": [
    {
     "data": {
      "text/html": [
       "<div>\n",
       "<style scoped>\n",
       "    .dataframe tbody tr th:only-of-type {\n",
       "        vertical-align: middle;\n",
       "    }\n",
       "\n",
       "    .dataframe tbody tr th {\n",
       "        vertical-align: top;\n",
       "    }\n",
       "\n",
       "    .dataframe thead th {\n",
       "        text-align: right;\n",
       "    }\n",
       "</style>\n",
       "<table border=\"1\" class=\"dataframe\">\n",
       "  <thead>\n",
       "    <tr style=\"text-align: right;\">\n",
       "      <th></th>\n",
       "      <th>tenure_months</th>\n",
       "      <th>internet_service_Fiber optic</th>\n",
       "      <th>contract_Two year</th>\n",
       "      <th>payment_method_Electronic check</th>\n",
       "      <th>dependents</th>\n",
       "      <th>streaming_movies_No internet service</th>\n",
       "      <th>device_protection_No internet service</th>\n",
       "      <th>online_security_No internet service</th>\n",
       "      <th>internet_service_No</th>\n",
       "      <th>online_backup_No internet service</th>\n",
       "      <th>y_pred</th>\n",
       "      <th>y_real</th>\n",
       "      <th>y_prob</th>\n",
       "    </tr>\n",
       "  </thead>\n",
       "  <tbody>\n",
       "    <tr>\n",
       "      <th>2142</th>\n",
       "      <td>71</td>\n",
       "      <td>1</td>\n",
       "      <td>0</td>\n",
       "      <td>0</td>\n",
       "      <td>0</td>\n",
       "      <td>0</td>\n",
       "      <td>0</td>\n",
       "      <td>0</td>\n",
       "      <td>0</td>\n",
       "      <td>0</td>\n",
       "      <td>0</td>\n",
       "      <td>0</td>\n",
       "      <td>0.000000</td>\n",
       "    </tr>\n",
       "    <tr>\n",
       "      <th>1623</th>\n",
       "      <td>16</td>\n",
       "      <td>1</td>\n",
       "      <td>0</td>\n",
       "      <td>0</td>\n",
       "      <td>0</td>\n",
       "      <td>0</td>\n",
       "      <td>0</td>\n",
       "      <td>0</td>\n",
       "      <td>0</td>\n",
       "      <td>0</td>\n",
       "      <td>1</td>\n",
       "      <td>1</td>\n",
       "      <td>0.729747</td>\n",
       "    </tr>\n",
       "    <tr>\n",
       "      <th>6074</th>\n",
       "      <td>32</td>\n",
       "      <td>1</td>\n",
       "      <td>0</td>\n",
       "      <td>0</td>\n",
       "      <td>0</td>\n",
       "      <td>0</td>\n",
       "      <td>0</td>\n",
       "      <td>0</td>\n",
       "      <td>0</td>\n",
       "      <td>0</td>\n",
       "      <td>1</td>\n",
       "      <td>0</td>\n",
       "      <td>0.761356</td>\n",
       "    </tr>\n",
       "    <tr>\n",
       "      <th>1362</th>\n",
       "      <td>24</td>\n",
       "      <td>0</td>\n",
       "      <td>0</td>\n",
       "      <td>0</td>\n",
       "      <td>0</td>\n",
       "      <td>0</td>\n",
       "      <td>0</td>\n",
       "      <td>0</td>\n",
       "      <td>0</td>\n",
       "      <td>0</td>\n",
       "      <td>0</td>\n",
       "      <td>1</td>\n",
       "      <td>0.415407</td>\n",
       "    </tr>\n",
       "    <tr>\n",
       "      <th>6754</th>\n",
       "      <td>20</td>\n",
       "      <td>0</td>\n",
       "      <td>0</td>\n",
       "      <td>0</td>\n",
       "      <td>1</td>\n",
       "      <td>1</td>\n",
       "      <td>1</td>\n",
       "      <td>1</td>\n",
       "      <td>1</td>\n",
       "      <td>1</td>\n",
       "      <td>0</td>\n",
       "      <td>0</td>\n",
       "      <td>0.000000</td>\n",
       "    </tr>\n",
       "  </tbody>\n",
       "</table>\n",
       "</div>"
      ],
      "text/plain": [
       "      tenure_months  internet_service_Fiber optic  contract_Two year  \\\n",
       "2142             71                             1                  0   \n",
       "1623             16                             1                  0   \n",
       "6074             32                             1                  0   \n",
       "1362             24                             0                  0   \n",
       "6754             20                             0                  0   \n",
       "\n",
       "      payment_method_Electronic check  dependents  \\\n",
       "2142                                0           0   \n",
       "1623                                0           0   \n",
       "6074                                0           0   \n",
       "1362                                0           0   \n",
       "6754                                0           1   \n",
       "\n",
       "      streaming_movies_No internet service  \\\n",
       "2142                                     0   \n",
       "1623                                     0   \n",
       "6074                                     0   \n",
       "1362                                     0   \n",
       "6754                                     1   \n",
       "\n",
       "      device_protection_No internet service  \\\n",
       "2142                                      0   \n",
       "1623                                      0   \n",
       "6074                                      0   \n",
       "1362                                      0   \n",
       "6754                                      1   \n",
       "\n",
       "      online_security_No internet service  internet_service_No  \\\n",
       "2142                                    0                    0   \n",
       "1623                                    0                    0   \n",
       "6074                                    0                    0   \n",
       "1362                                    0                    0   \n",
       "6754                                    1                    1   \n",
       "\n",
       "      online_backup_No internet service  y_pred  y_real    y_prob  \n",
       "2142                                  0       0       0  0.000000  \n",
       "1623                                  0       1       1  0.729747  \n",
       "6074                                  0       1       0  0.761356  \n",
       "1362                                  0       0       1  0.415407  \n",
       "6754                                  1       0       0  0.000000  "
      ]
     },
     "execution_count": 45,
     "metadata": {},
     "output_type": "execute_result"
    }
   ],
   "source": [
    "# predictions on X_train\n",
    "RF_train_results = X_train.copy()\n",
    "RF_train_results['y_pred'] = gs.predict(X_train)\n",
    "RF_train_results['y_real'] = y_train\n",
    "RF_train_results['y_prob'] = gs.predict_proba(X_train)[:,1]\n",
    "\n",
    "RF_train_results.head()"
   ]
  },
  {
   "cell_type": "code",
   "execution_count": 46,
   "metadata": {
    "ExecuteTime": {
     "end_time": "2023-07-18T15:54:14.522608700Z",
     "start_time": "2023-07-18T15:54:14.252847800Z"
    },
    "collapsed": false
   },
   "outputs": [
    {
     "data": {
      "text/html": [
       "<div>\n",
       "<style scoped>\n",
       "    .dataframe tbody tr th:only-of-type {\n",
       "        vertical-align: middle;\n",
       "    }\n",
       "\n",
       "    .dataframe tbody tr th {\n",
       "        vertical-align: top;\n",
       "    }\n",
       "\n",
       "    .dataframe thead th {\n",
       "        text-align: right;\n",
       "    }\n",
       "</style>\n",
       "<table border=\"1\" class=\"dataframe\">\n",
       "  <thead>\n",
       "    <tr style=\"text-align: right;\">\n",
       "      <th></th>\n",
       "      <th>tenure_months</th>\n",
       "      <th>internet_service_Fiber optic</th>\n",
       "      <th>contract_Two year</th>\n",
       "      <th>payment_method_Electronic check</th>\n",
       "      <th>dependents</th>\n",
       "      <th>streaming_movies_No internet service</th>\n",
       "      <th>device_protection_No internet service</th>\n",
       "      <th>online_security_No internet service</th>\n",
       "      <th>internet_service_No</th>\n",
       "      <th>online_backup_No internet service</th>\n",
       "      <th>y_pred</th>\n",
       "      <th>y_real</th>\n",
       "      <th>y_prob</th>\n",
       "    </tr>\n",
       "  </thead>\n",
       "  <tbody>\n",
       "    <tr>\n",
       "      <th>185</th>\n",
       "      <td>15</td>\n",
       "      <td>1</td>\n",
       "      <td>0</td>\n",
       "      <td>0</td>\n",
       "      <td>0</td>\n",
       "      <td>0</td>\n",
       "      <td>0</td>\n",
       "      <td>0</td>\n",
       "      <td>0</td>\n",
       "      <td>0</td>\n",
       "      <td>1</td>\n",
       "      <td>1</td>\n",
       "      <td>0.667753</td>\n",
       "    </tr>\n",
       "    <tr>\n",
       "      <th>2715</th>\n",
       "      <td>18</td>\n",
       "      <td>0</td>\n",
       "      <td>0</td>\n",
       "      <td>0</td>\n",
       "      <td>0</td>\n",
       "      <td>0</td>\n",
       "      <td>0</td>\n",
       "      <td>0</td>\n",
       "      <td>0</td>\n",
       "      <td>0</td>\n",
       "      <td>0</td>\n",
       "      <td>0</td>\n",
       "      <td>0.431452</td>\n",
       "    </tr>\n",
       "    <tr>\n",
       "      <th>3825</th>\n",
       "      <td>2</td>\n",
       "      <td>0</td>\n",
       "      <td>0</td>\n",
       "      <td>0</td>\n",
       "      <td>0</td>\n",
       "      <td>1</td>\n",
       "      <td>1</td>\n",
       "      <td>1</td>\n",
       "      <td>1</td>\n",
       "      <td>1</td>\n",
       "      <td>0</td>\n",
       "      <td>0</td>\n",
       "      <td>0.335967</td>\n",
       "    </tr>\n",
       "    <tr>\n",
       "      <th>1807</th>\n",
       "      <td>6</td>\n",
       "      <td>1</td>\n",
       "      <td>0</td>\n",
       "      <td>1</td>\n",
       "      <td>0</td>\n",
       "      <td>0</td>\n",
       "      <td>0</td>\n",
       "      <td>0</td>\n",
       "      <td>0</td>\n",
       "      <td>0</td>\n",
       "      <td>1</td>\n",
       "      <td>1</td>\n",
       "      <td>0.829534</td>\n",
       "    </tr>\n",
       "    <tr>\n",
       "      <th>132</th>\n",
       "      <td>40</td>\n",
       "      <td>1</td>\n",
       "      <td>0</td>\n",
       "      <td>0</td>\n",
       "      <td>0</td>\n",
       "      <td>0</td>\n",
       "      <td>0</td>\n",
       "      <td>0</td>\n",
       "      <td>0</td>\n",
       "      <td>0</td>\n",
       "      <td>1</td>\n",
       "      <td>1</td>\n",
       "      <td>0.617657</td>\n",
       "    </tr>\n",
       "  </tbody>\n",
       "</table>\n",
       "</div>"
      ],
      "text/plain": [
       "      tenure_months  internet_service_Fiber optic  contract_Two year  \\\n",
       "185              15                             1                  0   \n",
       "2715             18                             0                  0   \n",
       "3825              2                             0                  0   \n",
       "1807              6                             1                  0   \n",
       "132              40                             1                  0   \n",
       "\n",
       "      payment_method_Electronic check  dependents  \\\n",
       "185                                 0           0   \n",
       "2715                                0           0   \n",
       "3825                                0           0   \n",
       "1807                                1           0   \n",
       "132                                 0           0   \n",
       "\n",
       "      streaming_movies_No internet service  \\\n",
       "185                                      0   \n",
       "2715                                     0   \n",
       "3825                                     1   \n",
       "1807                                     0   \n",
       "132                                      0   \n",
       "\n",
       "      device_protection_No internet service  \\\n",
       "185                                       0   \n",
       "2715                                      0   \n",
       "3825                                      1   \n",
       "1807                                      0   \n",
       "132                                       0   \n",
       "\n",
       "      online_security_No internet service  internet_service_No  \\\n",
       "185                                     0                    0   \n",
       "2715                                    0                    0   \n",
       "3825                                    1                    1   \n",
       "1807                                    0                    0   \n",
       "132                                     0                    0   \n",
       "\n",
       "      online_backup_No internet service  y_pred  y_real    y_prob  \n",
       "185                                   0       1       1  0.667753  \n",
       "2715                                  0       0       0  0.431452  \n",
       "3825                                  1       0       0  0.335967  \n",
       "1807                                  0       1       1  0.829534  \n",
       "132                                   0       1       1  0.617657  "
      ]
     },
     "execution_count": 46,
     "metadata": {},
     "output_type": "execute_result"
    }
   ],
   "source": [
    "# X_test\n",
    "\n",
    "RF_test_results = X_test.copy()\n",
    "RF_test_results['y_pred'] = gs.predict(X_test)\n",
    "RF_test_results['y_real'] = y_test\n",
    "RF_test_results['y_prob'] = gs.predict_proba(X_test)[:,1]\n",
    "\n",
    "RF_test_results.head()"
   ]
  },
  {
   "cell_type": "markdown",
   "metadata": {
    "collapsed": false
   },
   "source": [
    "### Confusion Matrix"
   ]
  },
  {
   "cell_type": "code",
   "execution_count": 47,
   "metadata": {
    "ExecuteTime": {
     "end_time": "2023-07-18T15:54:14.525052900Z",
     "start_time": "2023-07-18T15:54:14.388309100Z"
    },
    "collapsed": false
   },
   "outputs": [],
   "source": [
    "RF_con_results=metrics.confusion_matrix(y_test,RF_test_results['y_pred'])"
   ]
  },
  {
   "cell_type": "code",
   "execution_count": 48,
   "metadata": {
    "ExecuteTime": {
     "end_time": "2023-07-18T15:54:14.961195100Z",
     "start_time": "2023-07-18T15:54:14.405150900Z"
    },
    "collapsed": false
   },
   "outputs": [
    {
     "data": {
      "image/png": "[encoded data removed]",
      "text/plain": [
       "<Figure size 640x480 with 2 Axes>"
      ]
     },
     "metadata": {},
     "output_type": "display_data"
    }
   ],
   "source": [
    "conf_matrix(RF_con_results)"
   ]
  },
  {
   "cell_type": "code",
   "execution_count": 49,
   "metadata": {
    "ExecuteTime": {
     "end_time": "2023-07-18T15:54:15.030704600Z",
     "start_time": "2023-07-18T15:54:14.917362200Z"
    },
    "collapsed": false
   },
   "outputs": [
    {
     "name": "stdout",
     "output_type": "stream",
     "text": [
      "              precision    recall  f1-score   support\n",
      "\n",
      "           0       0.94      0.76      0.84      4165\n",
      "           1       0.56      0.86      0.68      1469\n",
      "\n",
      "    accuracy                           0.78      5634\n",
      "   macro avg       0.75      0.81      0.76      5634\n",
      "weighted avg       0.84      0.78      0.80      5634\n",
      "\n"
     ]
    }
   ],
   "source": [
    "## Train\n",
    "\n",
    "print(metrics.classification_report(y_train,RF_train_results['y_pred']))"
   ]
  },
  {
   "cell_type": "code",
   "execution_count": 50,
   "metadata": {
    "ExecuteTime": {
     "end_time": "2023-07-18T15:54:15.231913100Z",
     "start_time": "2023-07-18T15:54:14.985413600Z"
    },
    "collapsed": false
   },
   "outputs": [
    {
     "name": "stdout",
     "output_type": "stream",
     "text": [
      "              precision    recall  f1-score   support\n",
      "\n",
      "           0       0.89      0.73      0.80      1009\n",
      "           1       0.53      0.78      0.63       400\n",
      "\n",
      "    accuracy                           0.74      1409\n",
      "   macro avg       0.71      0.75      0.72      1409\n",
      "weighted avg       0.79      0.74      0.75      1409\n",
      "\n"
     ]
    }
   ],
   "source": [
    "## Test\n",
    "\n",
    "print(metrics.classification_report(y_test,RF_test_results['y_pred']))"
   ]
  },
  {
   "cell_type": "code",
   "execution_count": 51,
   "metadata": {
    "ExecuteTime": {
     "end_time": "2023-07-18T15:54:15.248411400Z",
     "start_time": "2023-07-18T15:54:14.994915900Z"
    },
    "collapsed": false
   },
   "outputs": [
    {
     "name": "stdout",
     "output_type": "stream",
     "text": [
      "The confusion matrix for your predictions is:\n",
      "[[3157 1008]\n",
      " [ 205 1264]] \n",
      "\n",
      "The accuracy of your model is: 0.7847000354987576\n",
      "The recall of your model is: 0.8604492852280463\n",
      "The precision of your model is: 0.5563380281690141\n",
      "The F1-score of your model is: 0.6757551456829725\n"
     ]
    }
   ],
   "source": [
    "## Train\n",
    "\n",
    "get_results(y_train, RF_train_results['y_pred'])"
   ]
  },
  {
   "cell_type": "code",
   "execution_count": 52,
   "metadata": {
    "ExecuteTime": {
     "end_time": "2023-07-18T15:54:15.250419900Z",
     "start_time": "2023-07-18T15:54:15.039587700Z"
    },
    "collapsed": false
   },
   "outputs": [
    {
     "name": "stdout",
     "output_type": "stream",
     "text": [
      "The confusion matrix for your predictions is:\n",
      "[[733 276]\n",
      " [ 87 313]] \n",
      "\n",
      "The accuracy of your model is: 0.7423704755145494\n",
      "The recall of your model is: 0.7825\n",
      "The precision of your model is: 0.5314091680814941\n",
      "The F1-score of your model is: 0.6329625884732052\n"
     ]
    }
   ],
   "source": [
    "## Test\n",
    "get_results(y_test, RF_test_results['y_pred'])"
   ]
  },
  {
   "cell_type": "markdown",
   "metadata": {
    "collapsed": false
   },
   "source": [
    "# CSV's Prep"
   ]
  },
  {
   "cell_type": "code",
   "execution_count": 53,
   "metadata": {
    "ExecuteTime": {
     "end_time": "2023-07-18T15:54:15.251656400Z",
     "start_time": "2023-07-18T15:54:15.070900200Z"
    },
    "collapsed": false
   },
   "outputs": [],
   "source": [
    "RF_train_y=RF_train_results[['y_prob']]\n",
    "RF_test_y=RF_test_results[['y_prob']]\n",
    "all_ID=df[['customerid','churn_value']]"
   ]
  },
  {
   "cell_type": "code",
   "execution_count": 54,
   "metadata": {
    "ExecuteTime": {
     "end_time": "2023-07-18T15:54:15.251656400Z",
     "start_time": "2023-07-18T15:54:15.083455900Z"
    },
    "collapsed": false
   },
   "outputs": [],
   "source": [
    "RF_all_y=pd.concat([RF_train_y,RF_test_y])"
   ]
  },
  {
   "cell_type": "code",
   "execution_count": 55,
   "metadata": {
    "ExecuteTime": {
     "end_time": "2023-07-18T15:54:15.252758300Z",
     "start_time": "2023-07-18T15:54:15.099478800Z"
    },
    "collapsed": false
   },
   "outputs": [],
   "source": [
    "RF_all_y=RF_all_y.join(all_ID)"
   ]
  },
  {
   "cell_type": "code",
   "execution_count": 56,
   "metadata": {
    "ExecuteTime": {
     "end_time": "2023-07-18T15:54:15.303064600Z",
     "start_time": "2023-07-18T15:54:15.115749400Z"
    },
    "collapsed": false
   },
   "outputs": [
    {
     "data": {
      "text/html": [
       "<div>\n",
       "<style scoped>\n",
       "    .dataframe tbody tr th:only-of-type {\n",
       "        vertical-align: middle;\n",
       "    }\n",
       "\n",
       "    .dataframe tbody tr th {\n",
       "        vertical-align: top;\n",
       "    }\n",
       "\n",
       "    .dataframe thead th {\n",
       "        text-align: right;\n",
       "    }\n",
       "</style>\n",
       "<table border=\"1\" class=\"dataframe\">\n",
       "  <thead>\n",
       "    <tr style=\"text-align: right;\">\n",
       "      <th></th>\n",
       "      <th>y_prob</th>\n",
       "      <th>customerid</th>\n",
       "      <th>churn_value</th>\n",
       "    </tr>\n",
       "  </thead>\n",
       "  <tbody>\n",
       "    <tr>\n",
       "      <th>2142</th>\n",
       "      <td>0.000000</td>\n",
       "      <td>9571-EDEBV</td>\n",
       "      <td>0</td>\n",
       "    </tr>\n",
       "    <tr>\n",
       "      <th>1623</th>\n",
       "      <td>0.729747</td>\n",
       "      <td>7562-GSUHK</td>\n",
       "      <td>1</td>\n",
       "    </tr>\n",
       "    <tr>\n",
       "      <th>6074</th>\n",
       "      <td>0.761356</td>\n",
       "      <td>2325-WINES</td>\n",
       "      <td>0</td>\n",
       "    </tr>\n",
       "    <tr>\n",
       "      <th>1362</th>\n",
       "      <td>0.415407</td>\n",
       "      <td>9381-NDKME</td>\n",
       "      <td>1</td>\n",
       "    </tr>\n",
       "    <tr>\n",
       "      <th>6754</th>\n",
       "      <td>0.000000</td>\n",
       "      <td>2164-SOQXL</td>\n",
       "      <td>0</td>\n",
       "    </tr>\n",
       "  </tbody>\n",
       "</table>\n",
       "</div>"
      ],
      "text/plain": [
       "        y_prob  customerid  churn_value\n",
       "2142  0.000000  9571-EDEBV            0\n",
       "1623  0.729747  7562-GSUHK            1\n",
       "6074  0.761356  2325-WINES            0\n",
       "1362  0.415407  9381-NDKME            1\n",
       "6754  0.000000  2164-SOQXL            0"
      ]
     },
     "execution_count": 56,
     "metadata": {},
     "output_type": "execute_result"
    }
   ],
   "source": [
    "RF_all_y.head()"
   ]
  },
  {
   "cell_type": "markdown",
   "metadata": {
    "collapsed": false
   },
   "source": [
    "### Top 500 (top_churn) as CSV"
   ]
  },
  {
   "cell_type": "code",
   "execution_count": 57,
   "metadata": {
    "ExecuteTime": {
     "end_time": "2023-07-18T15:54:15.303064600Z",
     "start_time": "2023-07-18T15:54:15.147111100Z"
    },
    "collapsed": false
   },
   "outputs": [],
   "source": [
    "RF_top_churn=RF_all_y[RF_all_y.churn_value==0].sort_values(['y_prob'],ascending=False).head(500)"
   ]
  },
  {
   "cell_type": "code",
   "execution_count": 58,
   "metadata": {
    "ExecuteTime": {
     "end_time": "2023-07-18T15:54:15.304062800Z",
     "start_time": "2023-07-18T15:54:15.168619900Z"
    },
    "collapsed": false
   },
   "outputs": [],
   "source": [
    "RF_top_churn[['customerid']].to_csv(\"project_4_RF_results.csv\",index=False)"
   ]
  },
  {
   "cell_type": "code",
   "execution_count": 59,
   "metadata": {
    "ExecuteTime": {
     "end_time": "2023-07-18T15:54:15.305056500Z",
     "start_time": "2023-07-18T15:54:15.202780Z"
    },
    "collapsed": false
   },
   "outputs": [
    {
     "data": {
      "text/html": [
       "<div>\n",
       "<style scoped>\n",
       "    .dataframe tbody tr th:only-of-type {\n",
       "        vertical-align: middle;\n",
       "    }\n",
       "\n",
       "    .dataframe tbody tr th {\n",
       "        vertical-align: top;\n",
       "    }\n",
       "\n",
       "    .dataframe thead th {\n",
       "        text-align: right;\n",
       "    }\n",
       "</style>\n",
       "<table border=\"1\" class=\"dataframe\">\n",
       "  <thead>\n",
       "    <tr style=\"text-align: right;\">\n",
       "      <th></th>\n",
       "      <th>y_prob</th>\n",
       "      <th>customerid</th>\n",
       "      <th>churn_value</th>\n",
       "    </tr>\n",
       "  </thead>\n",
       "  <tbody>\n",
       "    <tr>\n",
       "      <th>3518</th>\n",
       "      <td>0.962294</td>\n",
       "      <td>1393-IMKZG</td>\n",
       "      <td>0</td>\n",
       "    </tr>\n",
       "    <tr>\n",
       "      <th>2215</th>\n",
       "      <td>0.962294</td>\n",
       "      <td>1452-VOQCH</td>\n",
       "      <td>0</td>\n",
       "    </tr>\n",
       "    <tr>\n",
       "      <th>3364</th>\n",
       "      <td>0.962294</td>\n",
       "      <td>8775-ERLNB</td>\n",
       "      <td>0</td>\n",
       "    </tr>\n",
       "    <tr>\n",
       "      <th>6353</th>\n",
       "      <td>0.962294</td>\n",
       "      <td>9605-WGJVW</td>\n",
       "      <td>0</td>\n",
       "    </tr>\n",
       "    <tr>\n",
       "      <th>5676</th>\n",
       "      <td>0.962294</td>\n",
       "      <td>9840-EFJQB</td>\n",
       "      <td>0</td>\n",
       "    </tr>\n",
       "  </tbody>\n",
       "</table>\n",
       "</div>"
      ],
      "text/plain": [
       "        y_prob  customerid  churn_value\n",
       "3518  0.962294  1393-IMKZG            0\n",
       "2215  0.962294  1452-VOQCH            0\n",
       "3364  0.962294  8775-ERLNB            0\n",
       "6353  0.962294  9605-WGJVW            0\n",
       "5676  0.962294  9840-EFJQB            0"
      ]
     },
     "execution_count": 59,
     "metadata": {},
     "output_type": "execute_result"
    }
   ],
   "source": [
    "RF_top_churn.head()"
   ]
  },
  {
   "cell_type": "markdown",
   "metadata": {
    "collapsed": false
   },
   "source": [
    "### Remainder CSV"
   ]
  },
  {
   "cell_type": "code",
   "execution_count": 60,
   "metadata": {
    "ExecuteTime": {
     "end_time": "2023-07-18T15:54:15.665812900Z",
     "start_time": "2023-07-18T15:54:15.224319600Z"
    },
    "collapsed": false
   },
   "outputs": [],
   "source": [
    "RF_remainder=RF_all_y[RF_all_y.churn_value==0].sort_values(['y_prob'],ascending=False)"
   ]
  },
  {
   "cell_type": "code",
   "execution_count": 61,
   "metadata": {
    "ExecuteTime": {
     "end_time": "2023-07-18T15:54:15.721925700Z",
     "start_time": "2023-07-18T15:54:15.245823700Z"
    },
    "collapsed": false
   },
   "outputs": [],
   "source": [
    "RF_remainder[['customerid','y_prob']].to_csv(\"project_4_RF_remainder.csv\",index=False)"
   ]
  }
 ],
 "metadata": {
  "kernelspec": {
   "display_name": "Python 3",
   "language": "python",
   "name": "python3"
  },
  "language_info": {
   "codemirror_mode": {
    "name": "ipython",
    "version": 2
   },
   "file_extension": ".py",
   "mimetype": "text/x-python",
   "name": "python",
   "nbconvert_exporter": "python",
   "pygments_lexer": "ipython2",
   "version": "2.7.6"
  }
 },
 "nbformat": 4,
 "nbformat_minor": 0
}
