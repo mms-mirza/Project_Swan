{
 "cells": [
  {
   "cell_type": "code",
   "execution_count": 2,
   "metadata": {
    "ExecuteTime": {
     "end_time": "2023-07-18T08:24:15.361172800Z",
     "start_time": "2023-07-18T08:24:09.446742Z"
    },
    "collapsed": true
   },
   "outputs": [],
   "source": [
    "import numpy as np\n",
    "import seaborn as sns\n",
    "import matplotlib.pyplot as plt\n",
    "import pandas as pd\n",
    "\n",
    "## import metrics from sklearn\n",
    "from sklearn import metrics\n",
    "from time import time\n",
    "\n",
    "## Get DT Classifier\n",
    "from sklearn.tree import DecisionTreeClassifier\n",
    "\n",
    "from sklearn.model_selection import train_test_split, cross_val_score, GridSearchCV\n",
    "\n",
    "from sklearn.metrics import confusion_matrix, accuracy_score\n",
    "\n",
    "## Import Logistic Regression from sklearn -- New One --\n",
    "from sklearn.linear_model import LogisticRegression\n",
    "\n",
    "## Ensemble models from sklearn for Decision Trees\n",
    "from sklearn.ensemble import BaggingClassifier\n",
    "from sklearn.ensemble import RandomForestClassifier, ExtraTreesClassifier\n"
   ]
  },
  {
   "cell_type": "code",
   "execution_count": 2,
   "metadata": {
    "ExecuteTime": {
     "end_time": "2023-07-18T08:24:22.842706Z",
     "start_time": "2023-07-18T08:24:15.357604Z"
    },
    "collapsed": false
   },
   "outputs": [],
   "source": [
    "df = pd.read_excel('customer_churn.xlsx')"
   ]
  },
  {
   "cell_type": "markdown",
   "metadata": {
    "collapsed": false
   },
   "source": [
    "# Cleaning function"
   ]
  },
  {
   "cell_type": "code",
   "execution_count": 3,
   "metadata": {
    "ExecuteTime": {
     "end_time": "2023-07-18T08:24:22.846707300Z",
     "start_time": "2023-07-18T08:24:22.795146800Z"
    },
    "collapsed": false
   },
   "outputs": [],
   "source": [
    " df.columns = (df.columns\n",
    "               .str.replace('\\s','_',regex=True)\n",
    "               .str.lower()\n",
    "               .copy()\n",
    "               )"
   ]
  },
  {
   "cell_type": "code",
   "execution_count": 4,
   "metadata": {
    "ExecuteTime": {
     "end_time": "2023-07-18T08:24:23.238322600Z",
     "start_time": "2023-07-18T08:24:22.837192900Z"
    },
    "collapsed": false
   },
   "outputs": [],
   "source": [
    "## All these have been checked to be binary first\n",
    "\n",
    "df.gender = df.gender.map({'Male':0,'Female':1})\n",
    "df.senior_citizen = df.senior_citizen.map({'No':0,'Yes':1})\n",
    "df.partner = df.partner.map({'No':0,'Yes':1})\n",
    "df.dependents = df.dependents.map({'No':0,'Yes':1})\n",
    "df.phone_service = df.phone_service.map({'No':0,'Yes':1})\n",
    "df.paperless_billing = df.paperless_billing.map({'No':0,'Yes':1})\n",
    "\n",
    "## Rename gender to sex\n",
    "df.rename(columns={'gender':'sex'},inplace=True)"
   ]
  },
  {
   "cell_type": "code",
   "execution_count": 5,
   "metadata": {
    "ExecuteTime": {
     "end_time": "2023-07-18T08:24:23.264525300Z",
     "start_time": "2023-07-18T08:24:23.069799100Z"
    },
    "collapsed": false
   },
   "outputs": [],
   "source": [
    "df=pd.get_dummies(data = df, columns = ['multiple_lines','internet_service','online_security','online_backup','device_protection','tech_support','streaming_movies','streaming_tv','contract','payment_method'], drop_first=True)"
   ]
  },
  {
   "cell_type": "markdown",
   "metadata": {
    "collapsed": false
   },
   "source": [
    "# Split"
   ]
  },
  {
   "cell_type": "code",
   "execution_count": 6,
   "metadata": {
    "ExecuteTime": {
     "end_time": "2023-07-18T08:24:23.269041900Z",
     "start_time": "2023-07-18T08:24:23.072342300Z"
    },
    "collapsed": false
   },
   "outputs": [],
   "source": [
    "## Feature columns\n",
    "\n",
    "Features = [\n",
    "    'tenure_months',\n",
    "    'internet_service_Fiber optic',\n",
    "    'contract_Two year',\n",
    "    'payment_method_Electronic check',\n",
    "    'dependents',\n",
    "    'streaming_movies_No internet service',\n",
    "    'device_protection_No internet service',\n",
    "    'online_security_No internet service',\n",
    "    'internet_service_No',\n",
    "    'online_backup_No internet service',\n",
    "    'churn_value'\n",
    "]"
   ]
  },
  {
   "cell_type": "code",
   "execution_count": 7,
   "metadata": {
    "ExecuteTime": {
     "end_time": "2023-07-18T08:24:23.446206400Z",
     "start_time": "2023-07-18T08:24:23.073347100Z"
    },
    "collapsed": false
   },
   "outputs": [],
   "source": [
    "X=df[Features].copy()"
   ]
  },
  {
   "cell_type": "code",
   "execution_count": 8,
   "metadata": {
    "ExecuteTime": {
     "end_time": "2023-07-18T08:24:23.894361300Z",
     "start_time": "2023-07-18T08:24:23.182588Z"
    },
    "collapsed": false
   },
   "outputs": [],
   "source": [
    "y= X['churn_value']\n",
    "\n",
    "X.drop(columns=['churn_value'], inplace=True)"
   ]
  },
  {
   "cell_type": "code",
   "execution_count": 9,
   "metadata": {
    "ExecuteTime": {
     "end_time": "2023-07-18T08:24:23.904859500Z",
     "start_time": "2023-07-18T08:24:23.325748Z"
    },
    "collapsed": false
   },
   "outputs": [],
   "source": [
    "X_train, X_test, y_train, y_test = train_test_split(X, y, test_size = 0.2, random_state = 42)"
   ]
  },
  {
   "cell_type": "markdown",
   "metadata": {
    "collapsed": false
   },
   "source": []
  },
  {
   "cell_type": "markdown",
   "metadata": {
    "collapsed": false
   },
   "source": [
    "# Feature Engineering function"
   ]
  },
  {
   "cell_type": "code",
   "execution_count": 10,
   "metadata": {
    "ExecuteTime": {
     "end_time": "2023-07-18T08:24:23.905857Z",
     "start_time": "2023-07-18T08:24:23.352337Z"
    },
    "collapsed": false
   },
   "outputs": [],
   "source": [
    "# X_train=pd.get_dummies(data = X_train, columns = ['multiple_lines','internet_service','online_security','online_backup','device_protection','tech_support','streaming_movies','streaming_tv','contract','payment_method'], drop_first=True)"
   ]
  },
  {
   "cell_type": "code",
   "execution_count": 11,
   "metadata": {
    "ExecuteTime": {
     "end_time": "2023-07-18T08:24:24.122696600Z",
     "start_time": "2023-07-18T08:24:23.371863400Z"
    },
    "collapsed": false
   },
   "outputs": [],
   "source": [
    "# ## New list without the space values, so the mean can be calculated\n",
    "# space=X_train.loc[X_train['total_charges']!=' '][['total_charges']]\n",
    "#\n",
    "# ## Find the mean\n",
    "# space_mean=np.mean(space['total_charges'])\n",
    "#\n",
    "# ## Apply mean to the ' ' values\n",
    "# X_train['total_charges']=X_train['total_charges'].replace(' ',space_mean)\n",
    "#\n",
    "# ## Change datatype to float\n",
    "# X_train = X_train.astype({'total_charges':'float'})"
   ]
  },
  {
   "cell_type": "markdown",
   "metadata": {
    "collapsed": false
   },
   "source": [
    "# Logistic Regression"
   ]
  },
  {
   "cell_type": "markdown",
   "metadata": {
    "collapsed": false
   },
   "source": [
    "## Train"
   ]
  },
  {
   "cell_type": "code",
   "execution_count": 12,
   "metadata": {
    "ExecuteTime": {
     "end_time": "2023-07-18T08:24:24.122696600Z",
     "start_time": "2023-07-18T08:24:23.416130300Z"
    },
    "collapsed": false
   },
   "outputs": [],
   "source": [
    "# Calculate class weights\n",
    "total_samples = len(df)\n",
    "class_0_count = 5174\n",
    "class_1_count = 1869\n",
    "class_0_weight = total_samples / class_0_count ##0.68     ##3518.32\n",
    "class_1_weight = total_samples / class_1_count ##1.88     ##3513.71\n",
    "\n",
    "# Create a dictionary with the class weights\n",
    "class_weights = {0: class_0_weight, 1: class_1_weight}"
   ]
  },
  {
   "cell_type": "code",
   "execution_count": 13,
   "metadata": {
    "ExecuteTime": {
     "end_time": "2023-07-18T08:24:24.215352400Z",
     "start_time": "2023-07-18T08:24:23.435367100Z"
    },
    "collapsed": false
   },
   "outputs": [],
   "source": [
    "\n",
    "lr = LogisticRegression(max_iter=250, random_state=42,class_weight=class_weights)"
   ]
  },
  {
   "cell_type": "code",
   "execution_count": 14,
   "metadata": {
    "ExecuteTime": {
     "end_time": "2023-07-18T08:24:24.973144100Z",
     "start_time": "2023-07-18T08:24:23.496263200Z"
    },
    "collapsed": false
   },
   "outputs": [
    {
     "data": {
      "text/html": [
       "<style>#sk-container-id-1 {color: black;background-color: white;}#sk-container-id-1 pre{padding: 0;}#sk-container-id-1 div.sk-toggleable {background-color: white;}#sk-container-id-1 label.sk-toggleable__label {cursor: pointer;display: block;width: 100%;margin-bottom: 0;padding: 0.3em;box-sizing: border-box;text-align: center;}#sk-container-id-1 label.sk-toggleable__label-arrow:before {content: \"▸\";float: left;margin-right: 0.25em;color: #696969;}#sk-container-id-1 label.sk-toggleable__label-arrow:hover:before {color: black;}#sk-container-id-1 div.sk-estimator:hover label.sk-toggleable__label-arrow:before {color: black;}#sk-container-id-1 div.sk-toggleable__content {max-height: 0;max-width: 0;overflow: hidden;text-align: left;background-color: #f0f8ff;}#sk-container-id-1 div.sk-toggleable__content pre {margin: 0.2em;color: black;border-radius: 0.25em;background-color: #f0f8ff;}#sk-container-id-1 input.sk-toggleable__control:checked~div.sk-toggleable__content {max-height: 200px;max-width: 100%;overflow: auto;}#sk-container-id-1 input.sk-toggleable__control:checked~label.sk-toggleable__label-arrow:before {content: \"▾\";}#sk-container-id-1 div.sk-estimator input.sk-toggleable__control:checked~label.sk-toggleable__label {background-color: #d4ebff;}#sk-container-id-1 div.sk-label input.sk-toggleable__control:checked~label.sk-toggleable__label {background-color: #d4ebff;}#sk-container-id-1 input.sk-hidden--visually {border: 0;clip: rect(1px 1px 1px 1px);clip: rect(1px, 1px, 1px, 1px);height: 1px;margin: -1px;overflow: hidden;padding: 0;position: absolute;width: 1px;}#sk-container-id-1 div.sk-estimator {font-family: monospace;background-color: #f0f8ff;border: 1px dotted black;border-radius: 0.25em;box-sizing: border-box;margin-bottom: 0.5em;}#sk-container-id-1 div.sk-estimator:hover {background-color: #d4ebff;}#sk-container-id-1 div.sk-parallel-item::after {content: \"\";width: 100%;border-bottom: 1px solid gray;flex-grow: 1;}#sk-container-id-1 div.sk-label:hover label.sk-toggleable__label {background-color: #d4ebff;}#sk-container-id-1 div.sk-serial::before {content: \"\";position: absolute;border-left: 1px solid gray;box-sizing: border-box;top: 0;bottom: 0;left: 50%;z-index: 0;}#sk-container-id-1 div.sk-serial {display: flex;flex-direction: column;align-items: center;background-color: white;padding-right: 0.2em;padding-left: 0.2em;position: relative;}#sk-container-id-1 div.sk-item {position: relative;z-index: 1;}#sk-container-id-1 div.sk-parallel {display: flex;align-items: stretch;justify-content: center;background-color: white;position: relative;}#sk-container-id-1 div.sk-item::before, #sk-container-id-1 div.sk-parallel-item::before {content: \"\";position: absolute;border-left: 1px solid gray;box-sizing: border-box;top: 0;bottom: 0;left: 50%;z-index: -1;}#sk-container-id-1 div.sk-parallel-item {display: flex;flex-direction: column;z-index: 1;position: relative;background-color: white;}#sk-container-id-1 div.sk-parallel-item:first-child::after {align-self: flex-end;width: 50%;}#sk-container-id-1 div.sk-parallel-item:last-child::after {align-self: flex-start;width: 50%;}#sk-container-id-1 div.sk-parallel-item:only-child::after {width: 0;}#sk-container-id-1 div.sk-dashed-wrapped {border: 1px dashed gray;margin: 0 0.4em 0.5em 0.4em;box-sizing: border-box;padding-bottom: 0.4em;background-color: white;}#sk-container-id-1 div.sk-label label {font-family: monospace;font-weight: bold;display: inline-block;line-height: 1.2em;}#sk-container-id-1 div.sk-label-container {text-align: center;}#sk-container-id-1 div.sk-container {/* jupyter's `normalize.less` sets `[hidden] { display: none; }` but bootstrap.min.css set `[hidden] { display: none !important; }` so we also need the `!important` here to be able to override the default hidden behavior on the sphinx rendered scikit-learn.org. See: https://github.com/scikit-learn/scikit-learn/issues/21755 */display: inline-block !important;position: relative;}#sk-container-id-1 div.sk-text-repr-fallback {display: none;}</style><div id=\"sk-container-id-1\" class=\"sk-top-container\"><div class=\"sk-text-repr-fallback\"><pre>LogisticRegression(class_weight={0: 1.3612292230382683, 1: 3.7683253076511503},\n",
       "                   max_iter=250, random_state=42)</pre><b>In a Jupyter environment, please rerun this cell to show the HTML representation or trust the notebook. <br />On GitHub, the HTML representation is unable to render, please try loading this page with nbviewer.org.</b></div><div class=\"sk-container\" hidden><div class=\"sk-item\"><div class=\"sk-estimator sk-toggleable\"><input class=\"sk-toggleable__control sk-hidden--visually\" id=\"sk-estimator-id-1\" type=\"checkbox\" checked><label for=\"sk-estimator-id-1\" class=\"sk-toggleable__label sk-toggleable__label-arrow\">LogisticRegression</label><div class=\"sk-toggleable__content\"><pre>LogisticRegression(class_weight={0: 1.3612292230382683, 1: 3.7683253076511503},\n",
       "                   max_iter=250, random_state=42)</pre></div></div></div></div></div>"
      ],
      "text/plain": [
       "LogisticRegression(class_weight={0: 1.3612292230382683, 1: 3.7683253076511503},\n",
       "                   max_iter=250, random_state=42)"
      ]
     },
     "execution_count": 14,
     "metadata": {},
     "output_type": "execute_result"
    }
   ],
   "source": [
    "lr.fit(X_train,y_train)"
   ]
  },
  {
   "cell_type": "code",
   "execution_count": 15,
   "metadata": {
    "ExecuteTime": {
     "end_time": "2023-07-18T08:24:24.989646900Z",
     "start_time": "2023-07-18T08:24:24.004645800Z"
    },
    "collapsed": false
   },
   "outputs": [],
   "source": [
    "X_train[['prob_stay' #0\n",
    "    ,'prob_churn' #1\n",
    "         ]] = lr.predict_proba(X_train)"
   ]
  },
  {
   "cell_type": "code",
   "execution_count": 16,
   "metadata": {
    "ExecuteTime": {
     "end_time": "2023-07-18T08:24:24.995204900Z",
     "start_time": "2023-07-18T08:24:24.043834800Z"
    },
    "collapsed": false
   },
   "outputs": [],
   "source": [
    "X_train['y_pred']=np.where(X_train['prob_churn']>0.5,1,0)"
   ]
  },
  {
   "cell_type": "code",
   "execution_count": 17,
   "metadata": {
    "ExecuteTime": {
     "end_time": "2023-07-18T08:24:25.000189700Z",
     "start_time": "2023-07-18T08:24:24.089456300Z"
    },
    "collapsed": false
   },
   "outputs": [
    {
     "data": {
      "text/html": [
       "<div>\n",
       "<style scoped>\n",
       "    .dataframe tbody tr th:only-of-type {\n",
       "        vertical-align: middle;\n",
       "    }\n",
       "\n",
       "    .dataframe tbody tr th {\n",
       "        vertical-align: top;\n",
       "    }\n",
       "\n",
       "    .dataframe thead th {\n",
       "        text-align: right;\n",
       "    }\n",
       "</style>\n",
       "<table border=\"1\" class=\"dataframe\">\n",
       "  <thead>\n",
       "    <tr style=\"text-align: right;\">\n",
       "      <th></th>\n",
       "      <th>tenure_months</th>\n",
       "      <th>internet_service_Fiber optic</th>\n",
       "      <th>contract_Two year</th>\n",
       "      <th>payment_method_Electronic check</th>\n",
       "      <th>dependents</th>\n",
       "      <th>streaming_movies_No internet service</th>\n",
       "      <th>device_protection_No internet service</th>\n",
       "      <th>online_security_No internet service</th>\n",
       "      <th>internet_service_No</th>\n",
       "      <th>online_backup_No internet service</th>\n",
       "      <th>prob_stay</th>\n",
       "      <th>prob_churn</th>\n",
       "      <th>y_pred</th>\n",
       "    </tr>\n",
       "  </thead>\n",
       "  <tbody>\n",
       "    <tr>\n",
       "      <th>2142</th>\n",
       "      <td>71</td>\n",
       "      <td>1</td>\n",
       "      <td>0</td>\n",
       "      <td>0</td>\n",
       "      <td>0</td>\n",
       "      <td>0</td>\n",
       "      <td>0</td>\n",
       "      <td>0</td>\n",
       "      <td>0</td>\n",
       "      <td>0</td>\n",
       "      <td>0.705951</td>\n",
       "      <td>0.294049</td>\n",
       "      <td>0</td>\n",
       "    </tr>\n",
       "    <tr>\n",
       "      <th>1623</th>\n",
       "      <td>16</td>\n",
       "      <td>1</td>\n",
       "      <td>0</td>\n",
       "      <td>0</td>\n",
       "      <td>0</td>\n",
       "      <td>0</td>\n",
       "      <td>0</td>\n",
       "      <td>0</td>\n",
       "      <td>0</td>\n",
       "      <td>0</td>\n",
       "      <td>0.238967</td>\n",
       "      <td>0.761033</td>\n",
       "      <td>1</td>\n",
       "    </tr>\n",
       "    <tr>\n",
       "      <th>6074</th>\n",
       "      <td>32</td>\n",
       "      <td>1</td>\n",
       "      <td>0</td>\n",
       "      <td>0</td>\n",
       "      <td>0</td>\n",
       "      <td>0</td>\n",
       "      <td>0</td>\n",
       "      <td>0</td>\n",
       "      <td>0</td>\n",
       "      <td>0</td>\n",
       "      <td>0.362022</td>\n",
       "      <td>0.637978</td>\n",
       "      <td>1</td>\n",
       "    </tr>\n",
       "    <tr>\n",
       "      <th>1362</th>\n",
       "      <td>24</td>\n",
       "      <td>0</td>\n",
       "      <td>0</td>\n",
       "      <td>0</td>\n",
       "      <td>0</td>\n",
       "      <td>0</td>\n",
       "      <td>0</td>\n",
       "      <td>0</td>\n",
       "      <td>0</td>\n",
       "      <td>0</td>\n",
       "      <td>0.553378</td>\n",
       "      <td>0.446622</td>\n",
       "      <td>0</td>\n",
       "    </tr>\n",
       "    <tr>\n",
       "      <th>6754</th>\n",
       "      <td>20</td>\n",
       "      <td>0</td>\n",
       "      <td>0</td>\n",
       "      <td>0</td>\n",
       "      <td>1</td>\n",
       "      <td>1</td>\n",
       "      <td>1</td>\n",
       "      <td>1</td>\n",
       "      <td>1</td>\n",
       "      <td>1</td>\n",
       "      <td>0.923628</td>\n",
       "      <td>0.076372</td>\n",
       "      <td>0</td>\n",
       "    </tr>\n",
       "  </tbody>\n",
       "</table>\n",
       "</div>"
      ],
      "text/plain": [
       "      tenure_months  internet_service_Fiber optic  contract_Two year  \\\n",
       "2142             71                             1                  0   \n",
       "1623             16                             1                  0   \n",
       "6074             32                             1                  0   \n",
       "1362             24                             0                  0   \n",
       "6754             20                             0                  0   \n",
       "\n",
       "      payment_method_Electronic check  dependents  \\\n",
       "2142                                0           0   \n",
       "1623                                0           0   \n",
       "6074                                0           0   \n",
       "1362                                0           0   \n",
       "6754                                0           1   \n",
       "\n",
       "      streaming_movies_No internet service  \\\n",
       "2142                                     0   \n",
       "1623                                     0   \n",
       "6074                                     0   \n",
       "1362                                     0   \n",
       "6754                                     1   \n",
       "\n",
       "      device_protection_No internet service  \\\n",
       "2142                                      0   \n",
       "1623                                      0   \n",
       "6074                                      0   \n",
       "1362                                      0   \n",
       "6754                                      1   \n",
       "\n",
       "      online_security_No internet service  internet_service_No  \\\n",
       "2142                                    0                    0   \n",
       "1623                                    0                    0   \n",
       "6074                                    0                    0   \n",
       "1362                                    0                    0   \n",
       "6754                                    1                    1   \n",
       "\n",
       "      online_backup_No internet service  prob_stay  prob_churn  y_pred  \n",
       "2142                                  0   0.705951    0.294049       0  \n",
       "1623                                  0   0.238967    0.761033       1  \n",
       "6074                                  0   0.362022    0.637978       1  \n",
       "1362                                  0   0.553378    0.446622       0  \n",
       "6754                                  1   0.923628    0.076372       0  "
      ]
     },
     "execution_count": 17,
     "metadata": {},
     "output_type": "execute_result"
    }
   ],
   "source": [
    "X_train.head()"
   ]
  },
  {
   "cell_type": "markdown",
   "metadata": {
    "collapsed": false
   },
   "source": [
    "# Test"
   ]
  },
  {
   "cell_type": "markdown",
   "metadata": {
    "collapsed": false
   },
   "source": [
    "Feature Engineer Test"
   ]
  },
  {
   "cell_type": "code",
   "execution_count": 18,
   "metadata": {
    "ExecuteTime": {
     "end_time": "2023-07-18T08:24:25.142101100Z",
     "start_time": "2023-07-18T08:24:24.176240800Z"
    },
    "collapsed": false
   },
   "outputs": [],
   "source": [
    "# X_test=pd.get_dummies(data = X_test, columns = ['multiple_lines','internet_service','online_security','online_backup','device_protection','tech_support','streaming_movies','streaming_tv','contract','payment_method'], drop_first=True)"
   ]
  },
  {
   "cell_type": "code",
   "execution_count": 19,
   "metadata": {
    "ExecuteTime": {
     "end_time": "2023-07-18T08:24:25.221271400Z",
     "start_time": "2023-07-18T08:24:24.188737300Z"
    },
    "collapsed": false
   },
   "outputs": [],
   "source": [
    "# ## Apply mean to the ' ' values\n",
    "# X_test['total_charges']=X_test['total_charges'].replace(' ',space_mean)\n",
    "#\n",
    "# ## Change datatype to float\n",
    "# X_test = X_test.astype({'total_charges':'float'})"
   ]
  },
  {
   "cell_type": "markdown",
   "metadata": {
    "collapsed": false
   },
   "source": []
  },
  {
   "cell_type": "code",
   "execution_count": 20,
   "metadata": {
    "ExecuteTime": {
     "end_time": "2023-07-18T08:24:25.222307700Z",
     "start_time": "2023-07-18T08:24:24.238983600Z"
    },
    "collapsed": false
   },
   "outputs": [],
   "source": [
    "X_test[['prob_stay' #0\n",
    "    ,'prob_churn' #1\n",
    "        ]] = lr.predict_proba(X_test)"
   ]
  },
  {
   "cell_type": "code",
   "execution_count": 21,
   "metadata": {
    "ExecuteTime": {
     "end_time": "2023-07-18T08:24:25.224311200Z",
     "start_time": "2023-07-18T08:24:24.268432100Z"
    },
    "collapsed": false
   },
   "outputs": [],
   "source": [
    "X_test['y_pred']=np.where(X_test['prob_churn']>0.6,1,0)"
   ]
  },
  {
   "cell_type": "markdown",
   "metadata": {
    "collapsed": false
   },
   "source": [
    "# Evaluate"
   ]
  },
  {
   "cell_type": "code",
   "execution_count": 22,
   "metadata": {
    "ExecuteTime": {
     "end_time": "2023-07-18T08:24:25.273886300Z",
     "start_time": "2023-07-18T08:24:24.326578700Z"
    },
    "collapsed": false
   },
   "outputs": [],
   "source": [
    "def conf_matrix(matrix):\n",
    "    ax = plt.subplot()\n",
    "    sns.heatmap(matrix, annot = True, ax = ax, fmt = 'g');\n",
    "    ax.xaxis.set_ticklabels(['predicted negative', 'predicted positive'])\n",
    "    ax.yaxis.set_ticklabels(['actual negative', 'actual positive']);"
   ]
  },
  {
   "cell_type": "code",
   "execution_count": 23,
   "metadata": {
    "ExecuteTime": {
     "end_time": "2023-07-18T08:24:25.469503300Z",
     "start_time": "2023-07-18T08:24:24.362222Z"
    },
    "collapsed": false
   },
   "outputs": [],
   "source": [
    "test_results=metrics.confusion_matrix(y_test,X_test['y_pred'])"
   ]
  },
  {
   "cell_type": "code",
   "execution_count": 24,
   "metadata": {
    "ExecuteTime": {
     "end_time": "2023-07-18T08:24:26.701834500Z",
     "start_time": "2023-07-18T08:24:24.388715800Z"
    },
    "collapsed": false
   },
   "outputs": [
    {
     "data": {
      "image/png": "[encoded data removed]",
      "text/plain": [
       "<Figure size 640x480 with 2 Axes>"
      ]
     },
     "metadata": {},
     "output_type": "display_data"
    }
   ],
   "source": [
    "conf_matrix(test_results)"
   ]
  },
  {
   "cell_type": "code",
   "execution_count": 25,
   "metadata": {
    "ExecuteTime": {
     "end_time": "2023-07-18T08:24:26.738387300Z",
     "start_time": "2023-07-18T08:24:25.670042400Z"
    },
    "collapsed": false
   },
   "outputs": [
    {
     "name": "stdout",
     "output_type": "stream",
     "text": [
      "              precision    recall  f1-score   support\n",
      "\n",
      "           0       0.91      0.74      0.81      4165\n",
      "           1       0.51      0.79      0.62      1469\n",
      "\n",
      "    accuracy                           0.75      5634\n",
      "   macro avg       0.71      0.76      0.72      5634\n",
      "weighted avg       0.81      0.75      0.76      5634\n",
      "\n"
     ]
    }
   ],
   "source": [
    "## Train\n",
    "\n",
    "print(metrics.classification_report(y_train,X_train['y_pred']))"
   ]
  },
  {
   "cell_type": "code",
   "execution_count": 26,
   "metadata": {
    "ExecuteTime": {
     "end_time": "2023-07-18T08:24:26.739385900Z",
     "start_time": "2023-07-18T08:24:25.729862100Z"
    },
    "collapsed": false
   },
   "outputs": [
    {
     "name": "stdout",
     "output_type": "stream",
     "text": [
      "              precision    recall  f1-score   support\n",
      "\n",
      "           0       0.87      0.80      0.83      1009\n",
      "           1       0.58      0.71      0.64       400\n",
      "\n",
      "    accuracy                           0.77      1409\n",
      "   macro avg       0.73      0.75      0.74      1409\n",
      "weighted avg       0.79      0.77      0.78      1409\n",
      "\n"
     ]
    }
   ],
   "source": [
    "## Test\n",
    "\n",
    "print(metrics.classification_report(y_test,X_test['y_pred']))"
   ]
  },
  {
   "cell_type": "code",
   "execution_count": 27,
   "metadata": {
    "ExecuteTime": {
     "end_time": "2023-07-18T08:24:26.741939Z",
     "start_time": "2023-07-18T08:24:25.784193900Z"
    },
    "collapsed": false
   },
   "outputs": [],
   "source": [
    "def get_results(actual, predicted):\n",
    "    print(\"The confusion matrix for your predictions is:\")\n",
    "    print(metrics.confusion_matrix(actual, predicted), \"\\n\")\n",
    "    print(f'The accuracy of your model is: {metrics.accuracy_score(actual, predicted)}')\n",
    "    print(f'The recall of your model is: {metrics.recall_score(actual, predicted)}')\n",
    "    print(f'The precision of your model is: {metrics.precision_score(actual, predicted)}')\n",
    "    print(f'The F1-score of your model is: {metrics.f1_score(actual, predicted)}')"
   ]
  },
  {
   "cell_type": "code",
   "execution_count": 28,
   "metadata": {
    "ExecuteTime": {
     "end_time": "2023-07-18T08:24:26.879231600Z",
     "start_time": "2023-07-18T08:24:25.810247Z"
    },
    "collapsed": false
   },
   "outputs": [
    {
     "name": "stdout",
     "output_type": "stream",
     "text": [
      "The confusion matrix for your predictions is:\n",
      "[[3066 1099]\n",
      " [ 306 1163]] \n",
      "\n",
      "The accuracy of your model is: 0.750621228257011\n",
      "The recall of your model is: 0.7916950306330838\n",
      "The precision of your model is: 0.5141467727674625\n",
      "The F1-score of your model is: 0.6234253551326723\n"
     ]
    }
   ],
   "source": [
    "## Train\n",
    "\n",
    "get_results(y_train, X_train['y_pred'])"
   ]
  },
  {
   "cell_type": "code",
   "execution_count": 29,
   "metadata": {
    "ExecuteTime": {
     "end_time": "2023-07-18T08:24:26.915305900Z",
     "start_time": "2023-07-18T08:24:25.875620300Z"
    },
    "collapsed": false
   },
   "outputs": [
    {
     "name": "stdout",
     "output_type": "stream",
     "text": [
      "The confusion matrix for your predictions is:\n",
      "[[807 202]\n",
      " [117 283]] \n",
      "\n",
      "The accuracy of your model is: 0.7735982966643009\n",
      "The recall of your model is: 0.7075\n",
      "The precision of your model is: 0.5835051546391753\n",
      "The F1-score of your model is: 0.6395480225988701\n"
     ]
    }
   ],
   "source": [
    "## Test\n",
    "get_results(y_test, X_test['y_pred'])"
   ]
  },
  {
   "cell_type": "markdown",
   "metadata": {
    "collapsed": false
   },
   "source": []
  },
  {
   "cell_type": "code",
   "execution_count": 31,
   "metadata": {
    "ExecuteTime": {
     "end_time": "2023-07-18T09:59:31.209265900Z",
     "start_time": "2023-07-18T09:59:30.803628400Z"
    },
    "collapsed": false
   },
   "outputs": [
    {
     "name": "stderr",
     "output_type": "stream",
     "text": [
      "C:\\Users\\44796\\AppData\\Local\\Temp\\ipykernel_17612\\3826784237.py:9: FutureWarning: The frame.append method is deprecated and will be removed from pandas in a future version. Use pandas.concat instead.\n",
      "  a1=a1.append(b1, ignore_index=True)\n",
      "C:\\Users\\44796\\AppData\\Local\\Temp\\ipykernel_17612\\3826784237.py:9: FutureWarning: The frame.append method is deprecated and will be removed from pandas in a future version. Use pandas.concat instead.\n",
      "  a1=a1.append(b1, ignore_index=True)\n",
      "C:\\Users\\44796\\AppData\\Local\\Temp\\ipykernel_17612\\3826784237.py:9: FutureWarning: The frame.append method is deprecated and will be removed from pandas in a future version. Use pandas.concat instead.\n",
      "  a1=a1.append(b1, ignore_index=True)\n",
      "C:\\Users\\44796\\AppData\\Local\\Temp\\ipykernel_17612\\3826784237.py:9: FutureWarning: The frame.append method is deprecated and will be removed from pandas in a future version. Use pandas.concat instead.\n",
      "  a1=a1.append(b1, ignore_index=True)\n",
      "C:\\Users\\44796\\AppData\\Local\\Temp\\ipykernel_17612\\3826784237.py:9: FutureWarning: The frame.append method is deprecated and will be removed from pandas in a future version. Use pandas.concat instead.\n",
      "  a1=a1.append(b1, ignore_index=True)\n",
      "C:\\Users\\44796\\AppData\\Local\\Temp\\ipykernel_17612\\3826784237.py:9: FutureWarning: The frame.append method is deprecated and will be removed from pandas in a future version. Use pandas.concat instead.\n",
      "  a1=a1.append(b1, ignore_index=True)\n",
      "C:\\Users\\44796\\AppData\\Local\\Temp\\ipykernel_17612\\3826784237.py:9: FutureWarning: The frame.append method is deprecated and will be removed from pandas in a future version. Use pandas.concat instead.\n",
      "  a1=a1.append(b1, ignore_index=True)\n",
      "C:\\Users\\44796\\AppData\\Local\\Temp\\ipykernel_17612\\3826784237.py:9: FutureWarning: The frame.append method is deprecated and will be removed from pandas in a future version. Use pandas.concat instead.\n",
      "  a1=a1.append(b1, ignore_index=True)\n",
      "C:\\Users\\44796\\AppData\\Local\\Temp\\ipykernel_17612\\3826784237.py:9: FutureWarning: The frame.append method is deprecated and will be removed from pandas in a future version. Use pandas.concat instead.\n",
      "  a1=a1.append(b1, ignore_index=True)\n",
      "C:\\Users\\44796\\AppData\\Local\\Temp\\ipykernel_17612\\3826784237.py:9: FutureWarning: The frame.append method is deprecated and will be removed from pandas in a future version. Use pandas.concat instead.\n",
      "  a1=a1.append(b1, ignore_index=True)\n"
     ]
    },
    {
     "data": {
      "text/html": [
       "<div>\n",
       "<style scoped>\n",
       "    .dataframe tbody tr th:only-of-type {\n",
       "        vertical-align: middle;\n",
       "    }\n",
       "\n",
       "    .dataframe tbody tr th {\n",
       "        vertical-align: top;\n",
       "    }\n",
       "\n",
       "    .dataframe thead th {\n",
       "        text-align: right;\n",
       "    }\n",
       "</style>\n",
       "<table border=\"1\" class=\"dataframe\">\n",
       "  <thead>\n",
       "    <tr style=\"text-align: right;\">\n",
       "      <th></th>\n",
       "      <th>i</th>\n",
       "      <th>accuracy</th>\n",
       "      <th>prec</th>\n",
       "      <th>recall</th>\n",
       "      <th>f1</th>\n",
       "      <th>mean</th>\n",
       "    </tr>\n",
       "  </thead>\n",
       "  <tbody>\n",
       "    <tr>\n",
       "      <th>7</th>\n",
       "      <td>0.7</td>\n",
       "      <td>0.800319</td>\n",
       "      <td>0.630898</td>\n",
       "      <td>0.564329</td>\n",
       "      <td>0.595760</td>\n",
       "      <td>0.658261</td>\n",
       "    </tr>\n",
       "    <tr>\n",
       "      <th>6</th>\n",
       "      <td>0.6</td>\n",
       "      <td>0.782393</td>\n",
       "      <td>0.566069</td>\n",
       "      <td>0.708645</td>\n",
       "      <td>0.629383</td>\n",
       "      <td>0.657298</td>\n",
       "    </tr>\n",
       "    <tr>\n",
       "      <th>8</th>\n",
       "      <td>0.8</td>\n",
       "      <td>0.796770</td>\n",
       "      <td>0.696126</td>\n",
       "      <td>0.391423</td>\n",
       "      <td>0.501089</td>\n",
       "      <td>0.637082</td>\n",
       "    </tr>\n",
       "    <tr>\n",
       "      <th>5</th>\n",
       "      <td>0.5</td>\n",
       "      <td>0.750621</td>\n",
       "      <td>0.514147</td>\n",
       "      <td>0.791695</td>\n",
       "      <td>0.623425</td>\n",
       "      <td>0.635978</td>\n",
       "    </tr>\n",
       "    <tr>\n",
       "      <th>4</th>\n",
       "      <td>0.4</td>\n",
       "      <td>0.708378</td>\n",
       "      <td>0.468433</td>\n",
       "      <td>0.878829</td>\n",
       "      <td>0.611124</td>\n",
       "      <td>0.613353</td>\n",
       "    </tr>\n",
       "    <tr>\n",
       "      <th>3</th>\n",
       "      <td>0.3</td>\n",
       "      <td>0.647320</td>\n",
       "      <td>0.420455</td>\n",
       "      <td>0.931926</td>\n",
       "      <td>0.579471</td>\n",
       "      <td>0.575834</td>\n",
       "    </tr>\n",
       "    <tr>\n",
       "      <th>9</th>\n",
       "      <td>0.9</td>\n",
       "      <td>0.762158</td>\n",
       "      <td>0.856354</td>\n",
       "      <td>0.105514</td>\n",
       "      <td>0.187879</td>\n",
       "      <td>0.562381</td>\n",
       "    </tr>\n",
       "    <tr>\n",
       "      <th>2</th>\n",
       "      <td>0.2</td>\n",
       "      <td>0.581292</td>\n",
       "      <td>0.379989</td>\n",
       "      <td>0.959156</td>\n",
       "      <td>0.544331</td>\n",
       "      <td>0.532954</td>\n",
       "    </tr>\n",
       "    <tr>\n",
       "      <th>1</th>\n",
       "      <td>0.1</td>\n",
       "      <td>0.480476</td>\n",
       "      <td>0.332951</td>\n",
       "      <td>0.989108</td>\n",
       "      <td>0.498200</td>\n",
       "      <td>0.480147</td>\n",
       "    </tr>\n",
       "    <tr>\n",
       "      <th>0</th>\n",
       "      <td>0.0</td>\n",
       "      <td>0.260738</td>\n",
       "      <td>0.260738</td>\n",
       "      <td>1.000000</td>\n",
       "      <td>0.413628</td>\n",
       "      <td>0.387021</td>\n",
       "    </tr>\n",
       "  </tbody>\n",
       "</table>\n",
       "</div>"
      ],
      "text/plain": [
       "     i  accuracy      prec    recall        f1      mean\n",
       "7  0.7  0.800319  0.630898  0.564329  0.595760  0.658261\n",
       "6  0.6  0.782393  0.566069  0.708645  0.629383  0.657298\n",
       "8  0.8  0.796770  0.696126  0.391423  0.501089  0.637082\n",
       "5  0.5  0.750621  0.514147  0.791695  0.623425  0.635978\n",
       "4  0.4  0.708378  0.468433  0.878829  0.611124  0.613353\n",
       "3  0.3  0.647320  0.420455  0.931926  0.579471  0.575834\n",
       "9  0.9  0.762158  0.856354  0.105514  0.187879  0.562381\n",
       "2  0.2  0.581292  0.379989  0.959156  0.544331  0.532954\n",
       "1  0.1  0.480476  0.332951  0.989108  0.498200  0.480147\n",
       "0  0.0  0.260738  0.260738  1.000000  0.413628  0.387021"
      ]
     },
     "execution_count": 31,
     "metadata": {},
     "output_type": "execute_result"
    }
   ],
   "source": [
    "a1=pd.DataFrame(columns=['i','accuracy','prec','recall'])\n",
    "\n",
    "c1=X_train['prob_churn'].copy()\n",
    "c1 = c1.to_frame()\n",
    "\n",
    "for i in np.arange(0, 1, 0.1):\n",
    "    c1['predict']=np.where(c1['prob_churn']>i,1,0)\n",
    "    b1={'i':i,'accuracy':metrics.accuracy_score(y_train, c1['predict']),'prec':metrics.precision_score(y_train, c1['predict']),'recall':metrics.recall_score(y_train, c1['predict']),'f1':metrics.f1_score(y_train, c1['predict'])}\n",
    "    a1=a1.append(b1, ignore_index=True)\n",
    "\n",
    "a1['mean']=a1.mean(axis=1)\n",
    "a1=a1.sort_values(['mean'],ascending=False)\n",
    "\n",
    "a1.head(20)"
   ]
  }
 ],
 "metadata": {
  "kernelspec": {
   "display_name": "Python 3",
   "language": "python",
   "name": "python3"
  },
  "language_info": {
   "codemirror_mode": {
    "name": "ipython",
    "version": 3
   },
   "file_extension": ".py",
   "mimetype": "text/x-python",
   "name": "python",
   "nbconvert_exporter": "python",
   "pygments_lexer": "ipython3",
   "version": "3.10.9"
  }
 },
 "nbformat": 4,
 "nbformat_minor": 0
}
